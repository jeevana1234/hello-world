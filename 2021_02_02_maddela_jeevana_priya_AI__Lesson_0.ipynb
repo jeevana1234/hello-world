{
  "nbformat": 4,
  "nbformat_minor": 0,
  "metadata": {
    "colab": {
      "name": "2021-02-02_maddela jeevana priya_AI_ Lesson 0 ",
      "provenance": [],
      "collapsed_sections": [],
      "include_colab_link": true
    },
    "kernelspec": {
      "name": "python3",
      "display_name": "Python 3"
    }
  },
  "cells": [
    {
      "cell_type": "markdown",
      "metadata": {
        "id": "view-in-github",
        "colab_type": "text"
      },
      "source": [
        "<a href=\"https://colab.research.google.com/github/jeevana1234/hello-world/blob/main/2021_02_02_maddela_jeevana_priya_AI__Lesson_0.ipynb\" target=\"_parent\"><img src=\"https://colab.research.google.com/assets/colab-badge.svg\" alt=\"Open In Colab\"/></a>"
      ]
    },
    {
      "cell_type": "markdown",
      "metadata": {
        "id": "W0l8coGdmyaI"
      },
      "source": [
        "# Lesson 0: COVID-19 Outbreak Analysis"
      ]
    },
    {
      "cell_type": "markdown",
      "metadata": {
        "id": "wf5ibdMS8C8W"
      },
      "source": [
        "### Teacher-Student Activities\n",
        "\n",
        "We all know that coronavirus is spreading on a daily basis in India. So, let's try to visualise how fast it is spreading.\n",
        "\n",
        "First, let's look at the dashboard created by Johns Hopkins University. You can look at the following live dashboard to see the real-time trend.\n",
        "\n",
        "[COVID-19 Live Dashboard](https://www.arcgis.com/apps/opsdashboard/index.html#/bda7594740fd40299423467b48e9ecf6)\n",
        "\n",
        "Now, let's create a similar map for India using Python to visualise the most affected states in India due to coronavirus. After the class, you can share it with your parents, relatives and friends by sending them the link to the map."
      ]
    },
    {
      "cell_type": "markdown",
      "metadata": {
        "id": "LH4QfpXOmwyk"
      },
      "source": [
        "---"
      ]
    },
    {
      "cell_type": "markdown",
      "metadata": {
        "id": "ZdRaRNsDu37s"
      },
      "source": [
        "**At this point, the student should share/present their screen with the teacher.**"
      ]
    },
    {
      "cell_type": "markdown",
      "metadata": {
        "id": "4vbg610OmKQj"
      },
      "source": [
        "---"
      ]
    },
    {
      "cell_type": "markdown",
      "metadata": {
        "id": "L_Opp5fyeA6V"
      },
      "source": [
        "#### Activity 1: Run Source Code\n",
        "\n",
        "This is the source code for the map to be created. You will learn to write it after signing up for the applied tech course. Right now, you just have to execute the code."
      ]
    },
    {
      "cell_type": "code",
      "metadata": {
        "id": "fbsMjhp2vZlE",
        "colab": {
          "base_uri": "https://localhost:8080/"
        },
        "outputId": "73060614-9a58-41f9-9284-953dba7df14e"
      },
      "source": [
        "# Student Action: Run the code below.\n",
        "# Download data\n",
        "!git clone https://github.com/CSSEGISandData/COVID-19.git\n",
        "\n",
        "# Install 'geocoder'\n",
        "!pip install geocoder\n",
        "\n",
        "# Importing modules\n",
        "import pandas as pd  \n",
        "import matplotlib.pyplot as plt \n",
        "import seaborn as sns\n",
        "import datetime \n",
        "import geocoder\n",
        "import folium\n",
        "from folium import plugins \n",
        "\n",
        "# DataFrame for the world\n",
        "conf_csv = '/content/COVID-19/csse_covid_19_data/csse_covid_19_time_series/time_series_covid19_confirmed_global.csv'\n",
        "conf_df = pd.read_csv(conf_csv)\n",
        "grouped_conf_df = conf_df.groupby(by = ['Country/Region'], as_index = False).sum()\n",
        "\n",
        "# DataFrame for India\n",
        "india_df = pd.read_csv(\"https://api.covid19india.org/csv/latest/state_wise.csv\")\n",
        "india_df = india_df.iloc[1:36, :]\n",
        "state_latitudes = []\n",
        "state_longitudes = []\n",
        "for i in india_df.index:\n",
        "    state = india_df['State'][i]\n",
        "    state_lat = geocoder.osm(state).lat\n",
        "    state_lng = geocoder.osm(state).lng\n",
        "    state_latitudes.append(state_lat)\n",
        "    state_longitudes.append(state_lng)\n",
        "\n",
        "state_latitudes = pd.Series(data = state_latitudes, index = india_df.index)\n",
        "state_longitudes = pd.Series(data = state_longitudes, index = india_df.index)\n",
        "india_df['Latitude'] = state_latitudes\n",
        "india_df['Longitude'] = state_longitudes\n",
        "\n",
        "# state_coordinates = [(19.7515, 75.7139), # Maharashtra\n",
        "#                     (11.1271, 78.6569), # Tamil Nadu\n",
        "#                     (15.9129, 79.7400), # Andhra Pradesh\n",
        "#                     (15.317, 75.7139), # Karnataka\n",
        "#                     (28.7041, 77.1025), # Delhi\n",
        "#                     (26.8467, 80.9462), # UP\n",
        "#                     (22.9868, 87.8550), # WB\n",
        "#                     (25.0961, 85.3131), # Bihar\n",
        "#                     (18.1124, 79.0193), # Telangana\n",
        "#                     (22.2587, 71.1924), # Gujarat\n",
        "#                     (26.2006, 92.9376), # Assam\n",
        "#                     (27.0238, 74.2179), # Rajasthan\n",
        "#                     (20.9517, 85.0985), # Odisha\n",
        "#                     (29.0588, 76.0856), # Haryana\n",
        "#                     (22.9734, 78.6569), # Madhya Pradesh\n",
        "#                     (10.8505, 76.2711), # Kerala\n",
        "#                     (31.1471, 75.3412), # Punjab\n",
        "#                     (33.7782, 76.5762), # Jammu and Kashmir\n",
        "#                     (23.6102, 85.2799), # Jharkhand\n",
        "#                     (21.2787, 81.8661), # Chattisgarh\n",
        "#                     (30.0668, 79.0193), # Uttarakhand\n",
        "#                     (15.2993, 74.1240), # Goa\n",
        "#                     (23.9408, 91.9882), # Tripura\n",
        "#                     (11.9416, 79.8083), # Puducherry\n",
        "#                     (24.6637, 93.9063), # Manipur\n",
        "#                     (31.1048, 77.1734), # Himachal Pradesh\n",
        "#                     (26.1584, 94.5624), # Nagaland\n",
        "#                     (28.2180, 94.7278), # Arunachal Pradesh\n",
        "#                     (11.7401, 92.6586), # Andaman and Nicobar\n",
        "#                     (34.1700, 77.5800), # Ladakh\n",
        "#                     (30.7333, 76.7794), # Chandigarh\n",
        "#                     (20.1809, 73.0169), # Dadra and Nagar Haveli\n",
        "#                     (25.4670, 91.3662), # Meghalaya\n",
        "#                     (27.5330, 88.5122), # Sikkim\n",
        "#                     (23.1645, 92.9376), # Mizoram\n",
        "#                      ]\n",
        "                  \n",
        "# ind_state_lat = pd.Series([s[0] for s in state_coordinates], index = india_df.index)\n",
        "# ind_state_lng = pd.Series([s[1] for s in state_coordinates], index = india_df.index)\n",
        "\n",
        "# india_df['Latitude'] = ind_state_lat\n",
        "# india_df['Longitude'] = ind_state_lng\n",
        "\n",
        "# DataFrame for the US\n",
        "us_conf_csv = '/content/COVID-19/csse_covid_19_data/csse_covid_19_time_series/time_series_covid19_confirmed_US.csv'\n",
        "us_conf_df = pd.read_csv(us_conf_csv)\n",
        "us_conf_df = us_conf_df.dropna()\n",
        "grouped_us_conf_df = us_conf_df.groupby(by = ['Combined_Key'], as_index = False).sum()\n",
        "\n",
        "# Function to get total confirmed cases in a country\n",
        "def get_total_confirmed_cases_for_country(country_name):\n",
        "    total_cases_country = conf_df[conf_df['Country/Region'] == country_name].iloc[:, 4:].apply(sum, axis = 0)\n",
        "    total_cases_country.index = pd.to_datetime(total_cases_country.index)\n",
        "    return total_cases_country\n",
        "\n",
        "# Function to get total confirmed cases in the world\n",
        "def get_total_confirmed_global_cases():\n",
        "    global_cases = conf_df.iloc[:, 4:].apply(sum, axis=0)\n",
        "    global_cases.index = pd.to_datetime(global_cases.index)\n",
        "    return global_cases\n",
        "\n",
        "# Function to create a line plot\n",
        "def line_plot(your_name, plot_background, fig_width, fig_height, country_name, colour, linewidth, markertype):\n",
        "    dt_series = None\n",
        "    if country_name != 'global':\n",
        "        dt_series = get_total_confirmed_cases_for_country(country_name)\n",
        "    else:\n",
        "        dt_series = get_total_confirmed_global_cases()\n",
        "    plt.style.use(plot_background)\n",
        "    plt.figure(figsize = (fig_width, fig_height))\n",
        "    plt.title(f'{country_name.upper()}: Total Coronavirus Cases Reported\\nCreated by {your_name.upper()}\\nPowered by WhiteHat Jr', fontsize = 16)\n",
        "    plt.plot(dt_series.index, dt_series, c = colour, lw = linewidth, marker = markertype, markersize = 7)\n",
        "    plt.xticks(rotation = 45)\n",
        "    plt.ylabel(\"Total Cases\")\n",
        "    plt.grid(linestyle='--', c='grey')\n",
        "    plt.show()\n",
        "\n",
        "# Add minimap\n",
        "def add_minimap(map_name):\n",
        "    # Plugin for mini map\n",
        "    minimap = plugins.MiniMap(toggle_display = True)\n",
        "    map_name.add_child(minimap) # Add minimap\n",
        "    plugins.ScrollZoomToggler().add_to(map_name) # Add scroll zoom toggler to map\n",
        "    plugins.Fullscreen(position='topright').add_to(map_name) # Add full screen button to map\n",
        "\n",
        "# Add title to map\n",
        "def add_title(map_name, country, your_name):\n",
        "    title_html = '''\n",
        "        <h2 align=\"center\" style=\"font-size:20px\"><b>Coronavirus Total Confirmed Cases in {}</b></h2>\n",
        "        <h4 align=\"center\" style=\"font-size:16px\"><i>Created by</i> {}</h4>\n",
        "        <h4 align=\"center\" style=\"font-size:16px\"><i>Powered by</i>\n",
        "            <a href=\"https://www.whitehatjr.com/\">WhiteHat Jr</a>\n",
        "        </h4>\n",
        "             '''.format(country, your_name.upper())   \n",
        "    return map_name.get_root().html.add_child(folium.Element(title_html))\n",
        "\n",
        "# Function to create folium maps using for India, US and the world\n",
        "def folium_map_with_circles(your_name, country, map_width, map_height, left_margin, top_margin, map_tile, zoom, circle_color, minimap):\n",
        "    last_col = conf_df.columns[-1]\n",
        "    if country == 'India':\n",
        "        india_map = folium.Map(location = [22.3511148, 78.6677428], \n",
        "                               width = map_width, height = map_height,\n",
        "                               left = f\"{left_margin}%\", top = f\"{top_margin}%\",\n",
        "                               tiles = map_tile, zoom_start = zoom)\n",
        "        \n",
        "        if minimap == True:\n",
        "            add_minimap(india_map)\n",
        "    \n",
        "        add_title(india_map, country, your_name)    \n",
        "        for i in india_df.index:\n",
        "            folium.Circle(radius = float(india_df.loc[i, 'Confirmed']) / 3,\n",
        "                          location = [india_df.loc[i, 'Latitude'], india_df.loc[i, 'Longitude']],\n",
        "                          popup = \"{}\\n {}\\n on {}\".format(india_df.loc[i, 'State'], \n",
        "                                                          india_df.loc[i, 'Confirmed'], \n",
        "                                                          india_df.loc[i, 'Last_Updated_Time']),\n",
        "                          \n",
        "                          color = circle_color,\n",
        "                          fill = True).add_to(india_map)\n",
        "        return india_map\n",
        "\n",
        "    elif country == 'US':\n",
        "        us_map = folium.Map(location = [39.381266, -97.922211], \n",
        "                            width = map_width, height = map_height, \n",
        "                            left = f\"{left_margin}%\", top = f\"{top_margin}%\",\n",
        "                            tiles = map_tile, zoom_start = zoom)\n",
        "        if minimap == True:\n",
        "            add_minimap(us_map)\n",
        "        \n",
        "        add_title(us_map, country, your_name)\n",
        "        for i in grouped_us_conf_df.index:\n",
        "            folium.Circle(location = [grouped_us_conf_df.loc[i, 'Lat'], grouped_us_conf_df.loc[i, 'Long_']], \n",
        "                          radius = int(grouped_us_conf_df.loc[i, last_col]), \n",
        "                          popup = \"{}\\n {}\\n on {}\".format(grouped_us_conf_df.loc[i, 'Combined_Key'],\n",
        "                                                          grouped_us_conf_df.loc[i, last_col],\n",
        "                                                          last_col),\n",
        "                          color = circle_color,\n",
        "                          fill = True).add_to(us_map)\n",
        "        return us_map\n",
        "    \n",
        "    elif country == 'World':\n",
        "        world_map = folium.Map(location = [0, 0], \n",
        "                            width = map_width, height = map_height, \n",
        "                            left = f\"{left_margin}%\", top = f\"{top_margin}%\",\n",
        "                            tiles = map_tile, zoom_start = zoom)\n",
        "        if minimap == True:\n",
        "            add_minimap(world_map)\n",
        "        \n",
        "        add_title(world_map, country, your_name)\n",
        "        for i in grouped_conf_df.index:\n",
        "            folium.Circle(location = [grouped_conf_df.loc[i, 'Lat'], grouped_conf_df.loc[i, 'Long']], \n",
        "                          radius = int(grouped_conf_df.loc[i, last_col]) / 2, \n",
        "                          popup = \"{}\\n {}\\n on {}\".format(grouped_conf_df.loc[i, 'Country/Region'],\n",
        "                                                          grouped_conf_df.loc[i, last_col], \n",
        "                                                          last_col),\n",
        "                          color = circle_color, \n",
        "                          fill = True).add_to(world_map)\n",
        "        return world_map\n",
        "    else:\n",
        "        print(\"\\nWrong input! Enter either India, US or World.\\n\")\n",
        "\n",
        "# Total confirmed cases in the descending order.\n",
        "grouped_conf_df = conf_df.groupby(by='Country/Region', as_index=False).sum()\n",
        "desc_grp_conf_df = grouped_conf_df.sort_values(by=conf_df.columns[-1], ascending=False)\n",
        "\n",
        "# Function to create a bar plot displaying the top 10 countries having the most number of coronavirus confirmed cases.\n",
        "def bar_plot(your_name, num_countries, width, height):\n",
        "    last_col = conf_df.columns[-1]\n",
        "    latest_date = datetime.datetime.strptime(last_col, '%m/%d/%y').strftime('%B %d, %Y') # Modify the latest date in the 'Month DD, YYYY' format.\n",
        "    plt.figure(figsize = (width, height))\n",
        "    plt.title(f'Top {num_countries} Countries with Highest COVID-19 Confirmed Cases\\nCreated by {your_name.upper()}\\nPowered by WhiteHat Jr', \n",
        "              fontsize = 16)\n",
        "    sns.barplot(desc_grp_conf_df[last_col].head(num_countries), desc_grp_conf_df['Country/Region'].head(num_countries), orient = 'h')\n",
        "    plt.xlabel(f'Total Confirmed Cases (in millions) as of {latest_date}')\n",
        "    plt.show()\n",
        "\n",
        "# Non-cumulative Confirmed Cases.\n",
        "non_cum_conf_df = desc_grp_conf_df.iloc[:, :4]\n",
        "for i in range(len(desc_grp_conf_df.columns[3:]) - 1):\n",
        "    series = desc_grp_conf_df[desc_grp_conf_df.columns[3 + (i + 1) ]] - desc_grp_conf_df[desc_grp_conf_df.columns[3 + i]]\n",
        "    non_cum_conf_df[desc_grp_conf_df.columns[3 + (i + 1)]] = series\n",
        "\n",
        "# Function to get the total non-cumulative confirmed cases in a country.\n",
        "def get_total_daily_confirmed_cases_for_country(country_name):\n",
        "    total_daily_cases = non_cum_conf_df[non_cum_conf_df['Country/Region'] == country_name].iloc[:, 4:].apply(sum, axis = 0)\n",
        "    total_daily_cases.index = pd.to_datetime(total_daily_cases.index)\n",
        "    return total_daily_cases\n",
        "\n",
        "# Line plot for the daily (non-cumulative) confirmed cases in various countries.\n",
        "def daily_cases_line_plot(your_name, num_countries, width, height):\n",
        "    plt.figure(figsize=(width, height))\n",
        "    plt.title(f'Non-Cumulative COVID-19 Confirmed Cases\\nCreated by {your_name.upper()}\\nPowered by WhiteHat Jr', fontsize = 16)\n",
        "    for region in non_cum_conf_df.iloc[:num_countries, :]['Country/Region']:\n",
        "        total_conf_cases = get_total_daily_confirmed_cases_for_country(region)\n",
        "        plt.plot(total_conf_cases.index[53:], total_conf_cases[53:], lw=2.5, label=region)\n",
        "    plt.xticks(rotation=45)\n",
        "    plt.legend()\n",
        "    plt.grid('major', linestyle='--', c='grey')\n",
        "    plt.show()"
      ],
      "execution_count": null,
      "outputs": [
        {
          "output_type": "stream",
          "text": [
            "Cloning into 'COVID-19'...\n",
            "remote: Enumerating objects: 6, done.\u001b[K\n",
            "remote: Counting objects: 100% (6/6), done.\u001b[K\n",
            "remote: Compressing objects: 100% (6/6), done.\u001b[K\n",
            "remote: Total 90566 (delta 0), reused 2 (delta 0), pack-reused 90560\u001b[K\n",
            "Receiving objects: 100% (90566/90566), 750.54 MiB | 28.15 MiB/s, done.\n",
            "Resolving deltas: 100% (62308/62308), done.\n",
            "Checking out files: 100% (902/902), done.\n",
            "Collecting geocoder\n",
            "\u001b[?25l  Downloading https://files.pythonhosted.org/packages/4f/6b/13166c909ad2f2d76b929a4227c952630ebaf0d729f6317eb09cbceccbab/geocoder-1.38.1-py2.py3-none-any.whl (98kB)\n",
            "\u001b[K     |████████████████████████████████| 102kB 4.1MB/s \n",
            "\u001b[?25hRequirement already satisfied: six in /usr/local/lib/python3.6/dist-packages (from geocoder) (1.15.0)\n",
            "Collecting ratelim\n",
            "  Downloading https://files.pythonhosted.org/packages/f2/98/7e6d147fd16a10a5f821db6e25f192265d6ecca3d82957a4fdd592cad49c/ratelim-0.1.6-py2.py3-none-any.whl\n",
            "Requirement already satisfied: future in /usr/local/lib/python3.6/dist-packages (from geocoder) (0.16.0)\n",
            "Requirement already satisfied: click in /usr/local/lib/python3.6/dist-packages (from geocoder) (7.1.2)\n",
            "Requirement already satisfied: requests in /usr/local/lib/python3.6/dist-packages (from geocoder) (2.23.0)\n",
            "Requirement already satisfied: decorator in /usr/local/lib/python3.6/dist-packages (from ratelim->geocoder) (4.4.2)\n",
            "Requirement already satisfied: chardet<4,>=3.0.2 in /usr/local/lib/python3.6/dist-packages (from requests->geocoder) (3.0.4)\n",
            "Requirement already satisfied: urllib3!=1.25.0,!=1.25.1,<1.26,>=1.21.1 in /usr/local/lib/python3.6/dist-packages (from requests->geocoder) (1.24.3)\n",
            "Requirement already satisfied: certifi>=2017.4.17 in /usr/local/lib/python3.6/dist-packages (from requests->geocoder) (2020.12.5)\n",
            "Requirement already satisfied: idna<3,>=2.5 in /usr/local/lib/python3.6/dist-packages (from requests->geocoder) (2.10)\n",
            "Installing collected packages: ratelim, geocoder\n",
            "Successfully installed geocoder-1.38.1 ratelim-0.1.6\n"
          ],
          "name": "stdout"
        }
      ]
    },
    {
      "cell_type": "markdown",
      "metadata": {
        "id": "gg0S_PoPIWNa"
      },
      "source": [
        "---"
      ]
    },
    {
      "cell_type": "markdown",
      "metadata": {
        "id": "pbKvEaCufa-p"
      },
      "source": [
        "#### Activity 2: Line Plot^\n",
        "\n",
        "Let's create a line plot to visualise the total number of confirmed cases in India till yesterday. For the line plot, the dataset that we have on coronavirus is maintained at Johns Hopkins University which gets according to the US time. Hence, we have data updated till yesterday. \n",
        "\n",
        "To view this dataset, write `conf_df[conf_df['Country/Region'] == 'India']` in the code cell below."
      ]
    },
    {
      "cell_type": "code",
      "metadata": {
        "id": "qpXGILXhk64L",
        "colab": {
          "base_uri": "https://localhost:8080/",
          "height": 129
        },
        "outputId": "ebf0e972-1f13-43bf-a52c-d896d7a955ff"
      },
      "source": [
        "# Student Action: Write conf_df[conf_df['Country/Region'] == 'India'] to view the dataset for India that will be used to create a line plot.\n",
        "conf_df[conf_df['Country/Region'] == 'India']"
      ],
      "execution_count": null,
      "outputs": [
        {
          "output_type": "execute_result",
          "data": {
            "text/html": [
              "<div>\n",
              "<style scoped>\n",
              "    .dataframe tbody tr th:only-of-type {\n",
              "        vertical-align: middle;\n",
              "    }\n",
              "\n",
              "    .dataframe tbody tr th {\n",
              "        vertical-align: top;\n",
              "    }\n",
              "\n",
              "    .dataframe thead th {\n",
              "        text-align: right;\n",
              "    }\n",
              "</style>\n",
              "<table border=\"1\" class=\"dataframe\">\n",
              "  <thead>\n",
              "    <tr style=\"text-align: right;\">\n",
              "      <th></th>\n",
              "      <th>Province/State</th>\n",
              "      <th>Country/Region</th>\n",
              "      <th>Lat</th>\n",
              "      <th>Long</th>\n",
              "      <th>1/22/20</th>\n",
              "      <th>1/23/20</th>\n",
              "      <th>1/24/20</th>\n",
              "      <th>1/25/20</th>\n",
              "      <th>1/26/20</th>\n",
              "      <th>1/27/20</th>\n",
              "      <th>1/28/20</th>\n",
              "      <th>1/29/20</th>\n",
              "      <th>1/30/20</th>\n",
              "      <th>1/31/20</th>\n",
              "      <th>2/1/20</th>\n",
              "      <th>2/2/20</th>\n",
              "      <th>2/3/20</th>\n",
              "      <th>2/4/20</th>\n",
              "      <th>2/5/20</th>\n",
              "      <th>2/6/20</th>\n",
              "      <th>2/7/20</th>\n",
              "      <th>2/8/20</th>\n",
              "      <th>2/9/20</th>\n",
              "      <th>2/10/20</th>\n",
              "      <th>2/11/20</th>\n",
              "      <th>2/12/20</th>\n",
              "      <th>2/13/20</th>\n",
              "      <th>2/14/20</th>\n",
              "      <th>2/15/20</th>\n",
              "      <th>2/16/20</th>\n",
              "      <th>2/17/20</th>\n",
              "      <th>2/18/20</th>\n",
              "      <th>2/19/20</th>\n",
              "      <th>2/20/20</th>\n",
              "      <th>2/21/20</th>\n",
              "      <th>2/22/20</th>\n",
              "      <th>2/23/20</th>\n",
              "      <th>2/24/20</th>\n",
              "      <th>2/25/20</th>\n",
              "      <th>2/26/20</th>\n",
              "      <th>...</th>\n",
              "      <th>12/24/20</th>\n",
              "      <th>12/25/20</th>\n",
              "      <th>12/26/20</th>\n",
              "      <th>12/27/20</th>\n",
              "      <th>12/28/20</th>\n",
              "      <th>12/29/20</th>\n",
              "      <th>12/30/20</th>\n",
              "      <th>12/31/20</th>\n",
              "      <th>1/1/21</th>\n",
              "      <th>1/2/21</th>\n",
              "      <th>1/3/21</th>\n",
              "      <th>1/4/21</th>\n",
              "      <th>1/5/21</th>\n",
              "      <th>1/6/21</th>\n",
              "      <th>1/7/21</th>\n",
              "      <th>1/8/21</th>\n",
              "      <th>1/9/21</th>\n",
              "      <th>1/10/21</th>\n",
              "      <th>1/11/21</th>\n",
              "      <th>1/12/21</th>\n",
              "      <th>1/13/21</th>\n",
              "      <th>1/14/21</th>\n",
              "      <th>1/15/21</th>\n",
              "      <th>1/16/21</th>\n",
              "      <th>1/17/21</th>\n",
              "      <th>1/18/21</th>\n",
              "      <th>1/19/21</th>\n",
              "      <th>1/20/21</th>\n",
              "      <th>1/21/21</th>\n",
              "      <th>1/22/21</th>\n",
              "      <th>1/23/21</th>\n",
              "      <th>1/24/21</th>\n",
              "      <th>1/25/21</th>\n",
              "      <th>1/26/21</th>\n",
              "      <th>1/27/21</th>\n",
              "      <th>1/28/21</th>\n",
              "      <th>1/29/21</th>\n",
              "      <th>1/30/21</th>\n",
              "      <th>1/31/21</th>\n",
              "      <th>2/1/21</th>\n",
              "    </tr>\n",
              "  </thead>\n",
              "  <tbody>\n",
              "    <tr>\n",
              "      <th>146</th>\n",
              "      <td>NaN</td>\n",
              "      <td>India</td>\n",
              "      <td>20.593684</td>\n",
              "      <td>78.96288</td>\n",
              "      <td>0</td>\n",
              "      <td>0</td>\n",
              "      <td>0</td>\n",
              "      <td>0</td>\n",
              "      <td>0</td>\n",
              "      <td>0</td>\n",
              "      <td>0</td>\n",
              "      <td>0</td>\n",
              "      <td>1</td>\n",
              "      <td>1</td>\n",
              "      <td>1</td>\n",
              "      <td>2</td>\n",
              "      <td>3</td>\n",
              "      <td>3</td>\n",
              "      <td>3</td>\n",
              "      <td>3</td>\n",
              "      <td>3</td>\n",
              "      <td>3</td>\n",
              "      <td>3</td>\n",
              "      <td>3</td>\n",
              "      <td>3</td>\n",
              "      <td>3</td>\n",
              "      <td>3</td>\n",
              "      <td>3</td>\n",
              "      <td>3</td>\n",
              "      <td>3</td>\n",
              "      <td>3</td>\n",
              "      <td>3</td>\n",
              "      <td>3</td>\n",
              "      <td>3</td>\n",
              "      <td>3</td>\n",
              "      <td>3</td>\n",
              "      <td>3</td>\n",
              "      <td>3</td>\n",
              "      <td>3</td>\n",
              "      <td>3</td>\n",
              "      <td>...</td>\n",
              "      <td>10146845</td>\n",
              "      <td>10169118</td>\n",
              "      <td>10187850</td>\n",
              "      <td>10207871</td>\n",
              "      <td>10224303</td>\n",
              "      <td>10244852</td>\n",
              "      <td>10266674</td>\n",
              "      <td>10266674</td>\n",
              "      <td>10286709</td>\n",
              "      <td>10323965</td>\n",
              "      <td>10340469</td>\n",
              "      <td>10356844</td>\n",
              "      <td>10374932</td>\n",
              "      <td>10395278</td>\n",
              "      <td>10413417</td>\n",
              "      <td>10413417</td>\n",
              "      <td>10450284</td>\n",
              "      <td>10466595</td>\n",
              "      <td>10479179</td>\n",
              "      <td>10495147</td>\n",
              "      <td>10512093</td>\n",
              "      <td>10527683</td>\n",
              "      <td>10542841</td>\n",
              "      <td>10557985</td>\n",
              "      <td>10571773</td>\n",
              "      <td>10581823</td>\n",
              "      <td>10595639</td>\n",
              "      <td>10610883</td>\n",
              "      <td>10625428</td>\n",
              "      <td>10639684</td>\n",
              "      <td>10654533</td>\n",
              "      <td>10667736</td>\n",
              "      <td>10676838</td>\n",
              "      <td>10689527</td>\n",
              "      <td>10701193</td>\n",
              "      <td>10720048</td>\n",
              "      <td>10733130</td>\n",
              "      <td>10746174</td>\n",
              "      <td>10757610</td>\n",
              "      <td>10766245</td>\n",
              "    </tr>\n",
              "  </tbody>\n",
              "</table>\n",
              "<p>1 rows × 381 columns</p>\n",
              "</div>"
            ],
            "text/plain": [
              "    Province/State Country/Region        Lat  ...   1/30/21   1/31/21    2/1/21\n",
              "146            NaN          India  20.593684  ...  10746174  10757610  10766245\n",
              "\n",
              "[1 rows x 381 columns]"
            ]
          },
          "metadata": {
            "tags": []
          },
          "execution_count": 2
        }
      ]
    },
    {
      "cell_type": "markdown",
      "metadata": {
        "id": "uObwYzKCHHiK"
      },
      "source": [
        "So, in this dataset, we have data for the total confirmed cases in India starting from January 22, 2020. The date given here is in the `MM/DD/YY` format where \n",
        "\n",
        "- `MM` stands for month\n",
        "\n",
        "- `DD` stands for day\n",
        "\n",
        "- `YY` stands for year\n",
        "\n",
        "Now, let's create a line plot. To create a line plot, you need to use the `line_plot()` function which takes the following inputs:\n",
        "\n",
        "- Name of the person who is creating the line plot which should be a text value enclosed within single-quotes (`''`) or double-quotes (`\"\"`).\n",
        "\n",
        "- The background style of the line plot which should be a text value enclosed within single-quotes (`''`) or double-quotes (`\"\"`).. Here is the list of most commonly used background styles:\n",
        "\n",
        "  1. `'dark_background'` (most preferred)\n",
        "\n",
        "  2. `'ggplot'`\n",
        "\n",
        "  3. `'seaborn'`\n",
        "\n",
        "  4. `'fivethirtyeight'`\n",
        "\n",
        "  and many more.\n",
        "\n",
        "- Width of the line plot (numeric value).\n",
        "\n",
        "- Height of the line plot (numeric value).\n",
        "\n",
        "- Name of the country which should be a text value enclosed within single-quotes (`''`) or double-quotes (`\"\"`).\n",
        "\n",
        "- Colour of the lines which should be a text value enclosed within single-quotes (`''`) or double-quotes (`\"\"`). Here's the list of most commonly used colours:\n",
        "\n",
        "  1. `'red'`\n",
        "  \n",
        "  2. `'cyan'` \n",
        "  \n",
        "  3. `'magenta'`\n",
        "\n",
        "  4. `'yellow'`\n",
        "\n",
        "  5. `'green'`\n",
        "\n",
        "- The width of the line (numeric value)\n",
        "\n",
        "- The marker style on the line plot which should be a text value enclosed within single-quotes (`''`) or double-quotes (`\"\"`). Here is the list of the most commonly used marker styles:\n",
        "\n",
        "  1. `'o'` for a circular marker\n",
        "\n",
        "  2. `'*'` for a starred marker\n",
        "\n",
        "  3. `'^'` for a upper triangular marker\n"
      ]
    },
    {
      "cell_type": "code",
      "metadata": {
        "id": "G1HArsXcHNXK",
        "colab": {
          "base_uri": "https://localhost:8080/",
          "height": 453
        },
        "outputId": "af47d5fb-c2ca-44a0-a5c4-c8b905eac07e"
      },
      "source": [
        "# Student Action: Create a line plot for the total confirmed cases in India using the 'line_plot()' function.\n",
        "line_plot('jeevana', 'ggplot', 16, 6, 'India', 'pink', 6, '*')\n"
      ],
      "execution_count": null,
      "outputs": [
        {
          "output_type": "display_data",
          "data": {
            "image/png": "[encoded data removed]",
            "text/plain": [
              "<Figure size 432x432 with 1 Axes>"
            ]
          },
          "metadata": {
            "tags": []
          }
        }
      ]
    },
    {
      "cell_type": "markdown",
      "metadata": {
        "id": "2uQJGNR1lJBz"
      },
      "source": [
        "**Note:** The `line_plot()` function is NOT a standard Python function. It is a user-defined function created at WhiteHat Jr using Python to simplify the line plot creation process. You will learn to create your own user-defined function in the subsequent classes in this course."
      ]
    },
    {
      "cell_type": "markdown",
      "metadata": {
        "id": "Rt79o-Ork9BO"
      },
      "source": [
        "---"
      ]
    },
    {
      "cell_type": "markdown",
      "metadata": {
        "id": "bb1A1XTZDyxv"
      },
      "source": [
        "#### Activity 3: Map^^\n",
        "\n",
        "Let's create a map for India. For this, we are going to use a dataset showing state-wise data for India. To view the first five rows for the total confirmed cases in India, call the `head()` function on the `india_df` variable which stores the data."
      ]
    },
    {
      "cell_type": "code",
      "metadata": {
        "id": "zcbuqGnITevO"
      },
      "source": [
        "# Student Action: List the first five rows of the dataset containing the total number of confirmed cases in India.\n",
        " \n"
      ],
      "execution_count": null,
      "outputs": []
    },
    {
      "cell_type": "markdown",
      "metadata": {
        "id": "eEfwX2AmVl2u"
      },
      "source": [
        "Let's now create a map for India to show the state-wise total confirmed cases of coronavirus. Using the latitude and longitude values (which are numeric values with decimal), we can create circular markers on a map. For this, you need to use the `folium_map_with_circles()` function which takes the following inputs:\n",
        "\n",
        "- Name of the person who is creating the map which should be a text value enclosed within single-quotes (`''`) or double-quotes (`\"\"`).\n",
        "\n",
        "- Name of the country for which a map needs to be created. It should be a text value enclosed within single-quotes (`''`) or double-quotes (`\"\"`). For the map only three values are supported:\n",
        "\n",
        "  1. `'India'`\n",
        "\n",
        "  2. `'US'`\n",
        "\n",
        "  3. `'World'`\n",
        "\n",
        "- Width of the map (numeric value).\n",
        "\n",
        "- Height of the map (numeric value).\n",
        "\n",
        "- Left margin for the map (numeric value).\n",
        "\n",
        "- Top margin for the map (numeric value).\n",
        "\n",
        "- The background style of the map which should be a text value enclosed within single-quotes (`''`) or double-quotes (`\"\"`). Here is the list of most commonly used background styles:\n",
        "\n",
        "  1. `'OpenStreetMap'`\n",
        "\n",
        "  2. `'Stamen Terrain'`\n",
        "\n",
        "  3. `'Stamen Toner'`\n",
        "\n",
        "- Initial zoom in value (a numeric value)\n",
        "\n",
        "- Colour of the circles on the map should be a text value enclosed within single-quotes (`''`) or double-quotes (`\"\"`). Here's the list of most commonly used colours:\n",
        "\n",
        "  1. `'red'`\n",
        "  \n",
        "  2. `'blue'` \n",
        "  \n",
        "  3. `'magenta'`\n",
        "\n",
        "  4. `'yellow'`\n",
        "\n",
        "  5. `'green'`\n",
        "\n",
        "- Whether you want the map to have a minimap or not; `True` for **yes** and `False` for **no**.\n"
      ]
    },
    {
      "cell_type": "code",
      "metadata": {
        "id": "JWAxL5giKQuB",
        "colab": {
          "base_uri": "https://localhost:8080/",
          "height": 904
        },
        "outputId": "87d0b0f9-49ac-4fd0-c86a-af16433f924d"
      },
      "source": [
        "# Student Action: Create a map for India to show the state-wise total confirmed cases of coronavirus.\n",
        "folium_map_with_circles('jeevana', 'India', 900, 500, 6, 4, 'OpenStreetMap', 4, 'black', True)\n"
      ],
      "execution_count": null,
      "outputs": [
        {
          "output_type": "execute_result",
          "data": {
            "text/html": [
              "<div style=\"width:100%;\"><div style=\"position:relative;width:100%;height:0;padding-bottom:60%;\"><span style=\"color:#565656\">Make this Notebook Trusted to load map: File -> Trust Notebook</span><iframe src=\"about:blank\" style=\"position:absolute;width:100%;height:100%;left:0;top:0;border:none !important;\" data-html=%3C%21DOCTYPE%20html%3E%0A%3Chead%3E%20%20%20%20%0A%20%20%20%20%3Cmeta%20http-equiv%3D%22content-type%22%20content%3D%22text/html%3B%20charset%3DUTF-8%22%20/%3E%0A%20%20%20%20%3Cscript%3EL_PREFER_CANVAS%3Dfalse%3B%20L_NO_TOUCH%3Dfalse%3B%20L_DISABLE_3D%3Dfalse%3B%3C/script%3E%0A%20%20%20%20%3Cscript%20src%3D%22https%3A//cdn.jsdelivr.net/npm/leaflet%401.4.0/dist/leaflet.js%22%3E%3C/script%3E%0A%20%20%20%20%3Cscript%20src%3D%22https%3A//code.jquery.com/jquery-1.12.4.min.js%22%3E%3C/script%3E%0A%20%20%20%20%3Cscript%20src%3D%22https%3A//maxcdn.bootstrapcdn.com/bootstrap/3.2.0/js/bootstrap.min.js%22%3E%3C/script%3E%0A%20%20%20%20%3Cscript%20src%3D%22https%3A//cdnjs.cloudflare.com/ajax/libs/Leaflet.awesome-markers/2.0.2/leaflet.awesome-markers.js%22%3E%3C/script%3E%0A%20%20%20%20%3Clink%20rel%3D%22stylesheet%22%20href%3D%22https%3A//cdn.jsdelivr.net/npm/leaflet%401.4.0/dist/leaflet.css%22/%3E%0A%20%20%20%20%3Clink%20rel%3D%22stylesheet%22%20href%3D%22https%3A//maxcdn.bootstrapcdn.com/bootstrap/3.2.0/css/bootstrap.min.css%22/%3E%0A%20%20%20%20%3Clink%20rel%3D%22stylesheet%22%20href%3D%22https%3A//maxcdn.bootstrapcdn.com/bootstrap/3.2.0/css/bootstrap-theme.min.css%22/%3E%0A%20%20%20%20%3Clink%20rel%3D%22stylesheet%22%20href%3D%22https%3A//maxcdn.bootstrapcdn.com/font-awesome/4.6.3/css/font-awesome.min.css%22/%3E%0A%20%20%20%20%3Clink%20rel%3D%22stylesheet%22%20href%3D%22https%3A//cdnjs.cloudflare.com/ajax/libs/Leaflet.awesome-markers/2.0.2/leaflet.awesome-markers.css%22/%3E%0A%20%20%20%20%3Clink%20rel%3D%22stylesheet%22%20href%3D%22https%3A//rawcdn.githack.com/python-visualization/folium/master/folium/templates/leaflet.awesome.rotate.css%22/%3E%0A%20%20%20%20%3Cstyle%3Ehtml%2C%20body%20%7Bwidth%3A%20100%25%3Bheight%3A%20100%25%3Bmargin%3A%200%3Bpadding%3A%200%3B%7D%3C/style%3E%0A%20%20%20%20%3Cstyle%3E%23map%20%7Bposition%3Aabsolute%3Btop%3A0%3Bbottom%3A0%3Bright%3A0%3Bleft%3A0%3B%7D%3C/style%3E%0A%20%20%20%20%0A%20%20%20%20%3Cmeta%20name%3D%22viewport%22%20content%3D%22width%3Ddevice-width%2C%0A%20%20%20%20%20%20%20%20initial-scale%3D1.0%2C%20maximum-scale%3D1.0%2C%20user-scalable%3Dno%22%20/%3E%0A%20%20%20%20%3Cstyle%3E%23map_ac851d495ec544b1b9b66e6660509479%20%7B%0A%20%20%20%20%20%20%20%20position%3A%20relative%3B%0A%20%20%20%20%20%20%20%20width%3A%20900.0px%3B%0A%20%20%20%20%20%20%20%20height%3A%20500.0px%3B%0A%20%20%20%20%20%20%20%20left%3A%206.0%25%3B%0A%20%20%20%20%20%20%20%20top%3A%204.0%25%3B%0A%20%20%20%20%20%20%20%20%7D%0A%20%20%20%20%3C/style%3E%0A%20%20%20%20%3Cscript%20src%3D%22https%3A//cdnjs.cloudflare.com/ajax/libs/leaflet-minimap/3.6.1/Control.MiniMap.js%22%3E%3C/script%3E%0A%20%20%20%20%3Clink%20rel%3D%22stylesheet%22%20href%3D%22https%3A//cdnjs.cloudflare.com/ajax/libs/leaflet-minimap/3.6.1/Control.MiniMap.css%22/%3E%0A%20%20%20%20%0A%20%20%20%20%20%20%20%20%20%20%20%20%20%20%20%20%3Cstyle%3E%0A%20%20%20%20%20%20%20%20%20%20%20%20%20%20%20%20%20%20%20%20%23scroll_zoom_toggler_4e0650da3ec7449f8d92f996bb404545%20%7B%0A%20%20%20%20%20%20%20%20%20%20%20%20%20%20%20%20%20%20%20%20%20%20%20%20position%3Aabsolute%3B%0A%20%20%20%20%20%20%20%20%20%20%20%20%20%20%20%20%20%20%20%20%20%20%20%20width%3A35px%3B%0A%20%20%20%20%20%20%20%20%20%20%20%20%20%20%20%20%20%20%20%20%20%20%20%20bottom%3A10px%3B%0A%20%20%20%20%20%20%20%20%20%20%20%20%20%20%20%20%20%20%20%20%20%20%20%20height%3A35px%3B%0A%20%20%20%20%20%20%20%20%20%20%20%20%20%20%20%20%20%20%20%20%20%20%20%20left%3A10px%3B%0A%20%20%20%20%20%20%20%20%20%20%20%20%20%20%20%20%20%20%20%20%20%20%20%20background-color%3A%23fff%3B%0A%20%20%20%20%20%20%20%20%20%20%20%20%20%20%20%20%20%20%20%20%20%20%20%20text-align%3Acenter%3B%0A%20%20%20%20%20%20%20%20%20%20%20%20%20%20%20%20%20%20%20%20%20%20%20%20line-height%3A35px%3B%0A%20%20%20%20%20%20%20%20%20%20%20%20%20%20%20%20%20%20%20%20%20%20%20%20vertical-align%3A%20middle%3B%0A%20%20%20%20%20%20%20%20%20%20%20%20%20%20%20%20%20%20%20%20%20%20%20%20%7D%0A%20%20%20%20%20%20%20%20%20%20%20%20%20%20%20%20%3C/style%3E%0A%20%20%20%20%20%20%20%20%20%20%20%20%0A%20%20%20%20%3Cscript%20src%3D%22https%3A//cdnjs.cloudflare.com/ajax/libs/leaflet.fullscreen/1.4.2/Control.FullScreen.min.js%22%3E%3C/script%3E%0A%20%20%20%20%3Clink%20rel%3D%22stylesheet%22%20href%3D%22https%3A//cdnjs.cloudflare.com/ajax/libs/leaflet.fullscreen/1.4.2/Control.FullScreen.min.css%22/%3E%0A%3C/head%3E%0A%3Cbody%3E%20%20%20%20%0A%20%20%20%20%0A%20%20%20%20%20%20%20%20%3Ch2%20align%3D%22center%22%20style%3D%22font-size%3A20px%22%3E%3Cb%3ECoronavirus%20Total%20Confirmed%20Cases%20in%20India%3C/b%3E%3C/h2%3E%0A%20%20%20%20%20%20%20%20%3Ch4%20align%3D%22center%22%20style%3D%22font-size%3A16px%22%3E%3Ci%3ECreated%20by%3C/i%3E%20JEEVANA%3C/h4%3E%0A%20%20%20%20%20%20%20%20%3Ch4%20align%3D%22center%22%20style%3D%22font-size%3A16px%22%3E%3Ci%3EPowered%20by%3C/i%3E%0A%20%20%20%20%20%20%20%20%20%20%20%20%3Ca%20href%3D%22https%3A//www.whitehatjr.com/%22%3EWhiteHat%20Jr%3C/a%3E%0A%20%20%20%20%20%20%20%20%3C/h4%3E%0A%20%20%20%20%20%20%20%20%20%20%20%20%20%0A%20%20%20%20%0A%20%20%20%20%3Cdiv%20class%3D%22folium-map%22%20id%3D%22map_ac851d495ec544b1b9b66e6660509479%22%20%3E%3C/div%3E%0A%20%20%20%20%0A%20%20%20%20%20%20%20%20%20%20%20%20%3Cimg%20id%3D%22scroll_zoom_toggler_4e0650da3ec7449f8d92f996bb404545%22%20alt%3D%22scroll%22%0A%20%20%20%20%20%20%20%20%20%20%20%20%20%20%20%20%20src%3D%22https%3A//cdnjs.cloudflare.com/ajax/libs/ionicons/2.0.1/png/512/arrow-move.png%22%0A%20%20%20%20%20%20%20%20%20%20%20%20%20%20%20%20%20style%3D%22z-index%3A%20999999%22%0A%20%20%20%20%20%20%20%20%20%20%20%20%20%20%20%20%20onclick%3D%22map_ac851d495ec544b1b9b66e6660509479.toggleScroll%28%29%22%3E%0A%20%20%20%20%20%20%20%20%20%20%20%20%3C/img%3E%0A%20%20%20%20%20%20%20%20%20%20%20%20%0A%3C/body%3E%0A%3Cscript%3E%20%20%20%20%0A%20%20%20%20%0A%20%20%20%20%0A%20%20%20%20%20%20%20%20var%20bounds%20%3D%20null%3B%0A%20%20%20%20%0A%0A%20%20%20%20var%20map_ac851d495ec544b1b9b66e6660509479%20%3D%20L.map%28%0A%20%20%20%20%20%20%20%20%27map_ac851d495ec544b1b9b66e6660509479%27%2C%20%7B%0A%20%20%20%20%20%20%20%20center%3A%20%5B22.3511148%2C%2078.6677428%5D%2C%0A%20%20%20%20%20%20%20%20zoom%3A%204%2C%0A%20%20%20%20%20%20%20%20maxBounds%3A%20bounds%2C%0A%20%20%20%20%20%20%20%20layers%3A%20%5B%5D%2C%0A%20%20%20%20%20%20%20%20worldCopyJump%3A%20false%2C%0A%20%20%20%20%20%20%20%20crs%3A%20L.CRS.EPSG3857%2C%0A%20%20%20%20%20%20%20%20zoomControl%3A%20true%2C%0A%20%20%20%20%20%20%20%20%7D%29%3B%0A%0A%0A%20%20%20%20%0A%20%20%20%20var%20tile_layer_16666cc68af14c97af32129c61a5d65e%20%3D%20L.tileLayer%28%0A%20%20%20%20%20%20%20%20%27https%3A//%7Bs%7D.tile.openstreetmap.org/%7Bz%7D/%7Bx%7D/%7By%7D.png%27%2C%0A%20%20%20%20%20%20%20%20%7B%0A%20%20%20%20%20%20%20%20%22attribution%22%3A%20null%2C%0A%20%20%20%20%20%20%20%20%22detectRetina%22%3A%20false%2C%0A%20%20%20%20%20%20%20%20%22maxNativeZoom%22%3A%2018%2C%0A%20%20%20%20%20%20%20%20%22maxZoom%22%3A%2018%2C%0A%20%20%20%20%20%20%20%20%22minZoom%22%3A%200%2C%0A%20%20%20%20%20%20%20%20%22noWrap%22%3A%20false%2C%0A%20%20%20%20%20%20%20%20%22opacity%22%3A%201%2C%0A%20%20%20%20%20%20%20%20%22subdomains%22%3A%20%22abc%22%2C%0A%20%20%20%20%20%20%20%20%22tms%22%3A%20false%0A%7D%29.addTo%28map_ac851d495ec544b1b9b66e6660509479%29%3B%0A%20%20%20%20%0A%0A%20%20%20%20%20%20%20%20var%20tile_layer_55e87fac514c4cec8220b02ecc8667ea%20%3D%20L.tileLayer%28%0A%20%20%20%20%20%20%20%20%27https%3A//%7Bs%7D.tile.openstreetmap.org/%7Bz%7D/%7Bx%7D/%7By%7D.png%27%2C%0A%20%20%20%20%20%20%20%20%7B%0A%20%20%20%20%20%20%20%20%22attribution%22%3A%20null%2C%0A%20%20%20%20%20%20%20%20%22detectRetina%22%3A%20false%2C%0A%20%20%20%20%20%20%20%20%22maxNativeZoom%22%3A%2018%2C%0A%20%20%20%20%20%20%20%20%22maxZoom%22%3A%2018%2C%0A%20%20%20%20%20%20%20%20%22minZoom%22%3A%200%2C%0A%20%20%20%20%20%20%20%20%22noWrap%22%3A%20false%2C%0A%20%20%20%20%20%20%20%20%22opacity%22%3A%201%2C%0A%20%20%20%20%20%20%20%20%22subdomains%22%3A%20%22abc%22%2C%0A%20%20%20%20%20%20%20%20%22tms%22%3A%20false%0A%7D%20%29%3B%0A%0A%20%20%20%20%20%20%20%20var%20mini_map_8922d3b98282479ba23ede2094d88079%20%3D%20new%20L.Control.MiniMap%28%20tile_layer_55e87fac514c4cec8220b02ecc8667ea%2C%0A%20%20%20%20%20%20%20%20%20%7B%0A%20%20%22autoToggleDisplay%22%3A%20false%2C%0A%20%20%22centerFixed%22%3A%20false%2C%0A%20%20%22collapsedHeight%22%3A%2025%2C%0A%20%20%22collapsedWidth%22%3A%2025%2C%0A%20%20%22height%22%3A%20150%2C%0A%20%20%22minimized%22%3A%20false%2C%0A%20%20%22position%22%3A%20%22bottomright%22%2C%0A%20%20%22toggleDisplay%22%3A%20true%2C%0A%20%20%22width%22%3A%20150%2C%0A%20%20%22zoomAnimation%22%3A%20false%2C%0A%20%20%22zoomLevelFixed%22%3A%20null%2C%0A%20%20%22zoomLevelOffset%22%3A%20-5%0A%7D%29%3B%0A%20%20%20%20%20%20%20%20map_ac851d495ec544b1b9b66e6660509479.addControl%28mini_map_8922d3b98282479ba23ede2094d88079%29%3B%0A%0A%20%20%20%20%20%20%20%20%0A%20%20%20%20%0A%20%20%20%20%20%20%20%20%20%20%20%20%20%20%20%20%20%20%20%20map_ac851d495ec544b1b9b66e6660509479.scrollEnabled%20%3D%20true%3B%0A%0A%20%20%20%20%20%20%20%20%20%20%20%20%20%20%20%20%20%20%20%20map_ac851d495ec544b1b9b66e6660509479.toggleScroll%20%3D%20function%28%29%20%7B%0A%20%20%20%20%20%20%20%20%20%20%20%20%20%20%20%20%20%20%20%20%20%20%20%20if%20%28this.scrollEnabled%29%20%7B%0A%20%20%20%20%20%20%20%20%20%20%20%20%20%20%20%20%20%20%20%20%20%20%20%20%20%20%20%20this.scrollEnabled%20%3D%20false%3B%0A%20%20%20%20%20%20%20%20%20%20%20%20%20%20%20%20%20%20%20%20%20%20%20%20%20%20%20%20this.scrollWheelZoom.disable%28%29%3B%0A%20%20%20%20%20%20%20%20%20%20%20%20%20%20%20%20%20%20%20%20%20%20%20%20%20%20%20%20%7D%0A%20%20%20%20%20%20%20%20%20%20%20%20%20%20%20%20%20%20%20%20%20%20%20%20else%20%7B%0A%20%20%20%20%20%20%20%20%20%20%20%20%20%20%20%20%20%20%20%20%20%20%20%20%20%20%20%20this.scrollEnabled%20%3D%20true%3B%0A%20%20%20%20%20%20%20%20%20%20%20%20%20%20%20%20%20%20%20%20%20%20%20%20%20%20%20%20this.scrollWheelZoom.enable%28%29%3B%0A%20%20%20%20%20%20%20%20%20%20%20%20%20%20%20%20%20%20%20%20%20%20%20%20%20%20%20%20%7D%0A%20%20%20%20%20%20%20%20%20%20%20%20%20%20%20%20%20%20%20%20%20%20%20%20%7D%3B%0A%0A%20%20%20%20%20%20%20%20%20%20%20%20%20%20%20%20%20%20%20%20map_ac851d495ec544b1b9b66e6660509479.toggleScroll%28%29%3B%0A%20%20%20%20%20%20%20%20%20%20%20%20%0A%20%20%20%20%0A%20%20%20%20%20%20%20%20%20%20%20%20L.control.fullscreen%28%7B%0A%20%20%20%20%20%20%20%20%20%20%20%20%20%20%20%20position%3A%20%27topright%27%2C%0A%20%20%20%20%20%20%20%20%20%20%20%20%20%20%20%20title%3A%20%27Full%20Screen%27%2C%0A%20%20%20%20%20%20%20%20%20%20%20%20%20%20%20%20titleCancel%3A%20%27Exit%20Full%20Screen%27%2C%0A%20%20%20%20%20%20%20%20%20%20%20%20%20%20%20%20forceSeparateButton%3A%20false%2C%0A%20%20%20%20%20%20%20%20%20%20%20%20%20%20%20%20%7D%29.addTo%28map_ac851d495ec544b1b9b66e6660509479%29%3B%0A%20%20%20%20%20%20%20%20%20%20%20%20map_ac851d495ec544b1b9b66e6660509479.on%28%27enterFullscreen%27%2C%20function%28%29%7B%0A%20%20%20%20%20%20%20%20%20%20%20%20%20%20%20%20console.log%28%27entered%20fullscreen%27%29%3B%0A%20%20%20%20%20%20%20%20%20%20%20%20%7D%29%3B%0A%0A%20%20%20%20%20%20%20%20%0A%20%20%20%20%0A%0A%20%20%20%20%20%20%20%20%20%20%20%20var%20circle_3487443335564b74957d5e99db2def7a%20%3D%20L.circle%28%0A%20%20%20%20%20%20%20%20%20%20%20%20%20%20%20%20%5B18.9068356%2C%2075.6741579%5D%2C%0A%20%20%20%20%20%20%20%20%20%20%20%20%20%20%20%20%7B%0A%20%20%22bubblingMouseEvents%22%3A%20true%2C%0A%20%20%22color%22%3A%20%22black%22%2C%0A%20%20%22dashArray%22%3A%20null%2C%0A%20%20%22dashOffset%22%3A%20null%2C%0A%20%20%22fill%22%3A%20true%2C%0A%20%20%22fillColor%22%3A%20%22black%22%2C%0A%20%20%22fillOpacity%22%3A%200.2%2C%0A%20%20%22fillRule%22%3A%20%22evenodd%22%2C%0A%20%20%22lineCap%22%3A%20%22round%22%2C%0A%20%20%22lineJoin%22%3A%20%22round%22%2C%0A%20%20%22opacity%22%3A%201.0%2C%0A%20%20%22radius%22%3A%20676115.6666666666%2C%0A%20%20%22stroke%22%3A%20true%2C%0A%20%20%22weight%22%3A%203%0A%7D%0A%20%20%20%20%20%20%20%20%20%20%20%20%20%20%20%20%29%0A%20%20%20%20%20%20%20%20%20%20%20%20%20%20%20%20.addTo%28map_ac851d495ec544b1b9b66e6660509479%29%3B%0A%20%20%20%20%20%20%20%20%20%20%20%20%0A%20%20%20%20%0A%20%20%20%20%20%20%20%20%20%20%20%20var%20popup_f4a66c52050c45f49f5fe6d314d5e58f%20%3D%20L.popup%28%7BmaxWidth%3A%20%27100%25%27%0A%20%20%20%20%20%20%20%20%20%20%20%20%0A%20%20%20%20%20%20%20%20%20%20%20%20%7D%29%3B%0A%0A%20%20%20%20%20%20%20%20%20%20%20%20%0A%20%20%20%20%20%20%20%20%20%20%20%20%20%20%20%20var%20html_2705a53e62f24870b6894a0dc27f74fa%20%3D%20%24%28%60%3Cdiv%20id%3D%22html_2705a53e62f24870b6894a0dc27f74fa%22%20style%3D%22width%3A%20100.0%25%3B%20height%3A%20100.0%25%3B%22%3EMaharashtra%20%202028347%20%20on%2001/02/2021%2021%3A32%3A16%3C/div%3E%60%29%5B0%5D%3B%0A%20%20%20%20%20%20%20%20%20%20%20%20%20%20%20%20popup_f4a66c52050c45f49f5fe6d314d5e58f.setContent%28html_2705a53e62f24870b6894a0dc27f74fa%29%3B%0A%20%20%20%20%20%20%20%20%20%20%20%20%0A%0A%20%20%20%20%20%20%20%20%20%20%20%20circle_3487443335564b74957d5e99db2def7a.bindPopup%28popup_f4a66c52050c45f49f5fe6d314d5e58f%29%0A%20%20%20%20%20%20%20%20%20%20%20%20%3B%0A%0A%20%20%20%20%20%20%20%20%20%20%20%20%0A%20%20%20%20%20%20%20%20%0A%20%20%20%20%0A%0A%20%20%20%20%20%20%20%20%20%20%20%20var%20circle_253704ef508d4ef685522f42d031d443%20%3D%20L.circle%28%0A%20%20%20%20%20%20%20%20%20%20%20%20%20%20%20%20%5B14.5203896%2C%2075.7223521%5D%2C%0A%20%20%20%20%20%20%20%20%20%20%20%20%20%20%20%20%7B%0A%20%20%22bubblingMouseEvents%22%3A%20true%2C%0A%20%20%22color%22%3A%20%22black%22%2C%0A%20%20%22dashArray%22%3A%20null%2C%0A%20%20%22dashOffset%22%3A%20null%2C%0A%20%20%22fill%22%3A%20true%2C%0A%20%20%22fillColor%22%3A%20%22black%22%2C%0A%20%20%22fillOpacity%22%3A%200.2%2C%0A%20%20%22fillRule%22%3A%20%22evenodd%22%2C%0A%20%20%22lineCap%22%3A%20%22round%22%2C%0A%20%20%22lineJoin%22%3A%20%22round%22%2C%0A%20%20%22opacity%22%3A%201.0%2C%0A%20%20%22radius%22%3A%20313258.3333333333%2C%0A%20%20%22stroke%22%3A%20true%2C%0A%20%20%22weight%22%3A%203%0A%7D%0A%20%20%20%20%20%20%20%20%20%20%20%20%20%20%20%20%29%0A%20%20%20%20%20%20%20%20%20%20%20%20%20%20%20%20.addTo%28map_ac851d495ec544b1b9b66e6660509479%29%3B%0A%20%20%20%20%20%20%20%20%20%20%20%20%0A%20%20%20%20%0A%20%20%20%20%20%20%20%20%20%20%20%20var%20popup_226b5f5349cd4fc1aad2e55813d87f56%20%3D%20L.popup%28%7BmaxWidth%3A%20%27100%25%27%0A%20%20%20%20%20%20%20%20%20%20%20%20%0A%20%20%20%20%20%20%20%20%20%20%20%20%7D%29%3B%0A%0A%20%20%20%20%20%20%20%20%20%20%20%20%0A%20%20%20%20%20%20%20%20%20%20%20%20%20%20%20%20var%20html_0bdd183eea324be59680c1803b9caa14%20%3D%20%24%28%60%3Cdiv%20id%3D%22html_0bdd183eea324be59680c1803b9caa14%22%20style%3D%22width%3A%20100.0%25%3B%20height%3A%20100.0%25%3B%22%3EKarnataka%20%20939775%20%20on%2001/02/2021%2021%3A07%3A05%3C/div%3E%60%29%5B0%5D%3B%0A%20%20%20%20%20%20%20%20%20%20%20%20%20%20%20%20popup_226b5f5349cd4fc1aad2e55813d87f56.setContent%28html_0bdd183eea324be59680c1803b9caa14%29%3B%0A%20%20%20%20%20%20%20%20%20%20%20%20%0A%0A%20%20%20%20%20%20%20%20%20%20%20%20circle_253704ef508d4ef685522f42d031d443.bindPopup%28popup_226b5f5349cd4fc1aad2e55813d87f56%29%0A%20%20%20%20%20%20%20%20%20%20%20%20%3B%0A%0A%20%20%20%20%20%20%20%20%20%20%20%20%0A%20%20%20%20%20%20%20%20%0A%20%20%20%20%0A%0A%20%20%20%20%20%20%20%20%20%20%20%20var%20circle_73107852c1ff42dcbd486b78c95c63ba%20%3D%20L.circle%28%0A%20%20%20%20%20%20%20%20%20%20%20%20%20%20%20%20%5B15.9240905%2C%2080.1863809%5D%2C%0A%20%20%20%20%20%20%20%20%20%20%20%20%20%20%20%20%7B%0A%20%20%22bubblingMouseEvents%22%3A%20true%2C%0A%20%20%22color%22%3A%20%22black%22%2C%0A%20%20%22dashArray%22%3A%20null%2C%0A%20%20%22dashOffset%22%3A%20null%2C%0A%20%20%22fill%22%3A%20true%2C%0A%20%20%22fillColor%22%3A%20%22black%22%2C%0A%20%20%22fillOpacity%22%3A%200.2%2C%0A%20%20%22fillRule%22%3A%20%22evenodd%22%2C%0A%20%20%22lineCap%22%3A%20%22round%22%2C%0A%20%20%22lineJoin%22%3A%20%22round%22%2C%0A%20%20%22opacity%22%3A%201.0%2C%0A%20%20%22radius%22%3A%20295966.6666666667%2C%0A%20%20%22stroke%22%3A%20true%2C%0A%20%20%22weight%22%3A%203%0A%7D%0A%20%20%20%20%20%20%20%20%20%20%20%20%20%20%20%20%29%0A%20%20%20%20%20%20%20%20%20%20%20%20%20%20%20%20.addTo%28map_ac851d495ec544b1b9b66e6660509479%29%3B%0A%20%20%20%20%20%20%20%20%20%20%20%20%0A%20%20%20%20%0A%20%20%20%20%20%20%20%20%20%20%20%20var%20popup_1a891e5d47564ecba6b5b8f4d3d3d35d%20%3D%20L.popup%28%7BmaxWidth%3A%20%27100%25%27%0A%20%20%20%20%20%20%20%20%20%20%20%20%0A%20%20%20%20%20%20%20%20%20%20%20%20%7D%29%3B%0A%0A%20%20%20%20%20%20%20%20%20%20%20%20%0A%20%20%20%20%20%20%20%20%20%20%20%20%20%20%20%20var%20html_688d55bc0c414d1f84c7c4266f1f2378%20%3D%20%24%28%60%3Cdiv%20id%3D%22html_688d55bc0c414d1f84c7c4266f1f2378%22%20style%3D%22width%3A%20100.0%25%3B%20height%3A%20100.0%25%3B%22%3EAndhra%20Pradesh%20%20887900%20%20on%2001/02/2021%2020%3A46%3A04%3C/div%3E%60%29%5B0%5D%3B%0A%20%20%20%20%20%20%20%20%20%20%20%20%20%20%20%20popup_1a891e5d47564ecba6b5b8f4d3d3d35d.setContent%28html_688d55bc0c414d1f84c7c4266f1f2378%29%3B%0A%20%20%20%20%20%20%20%20%20%20%20%20%0A%0A%20%20%20%20%20%20%20%20%20%20%20%20circle_73107852c1ff42dcbd486b78c95c63ba.bindPopup%28popup_1a891e5d47564ecba6b5b8f4d3d3d35d%29%0A%20%20%20%20%20%20%20%20%20%20%20%20%3B%0A%0A%20%20%20%20%20%20%20%20%20%20%20%20%0A%20%20%20%20%20%20%20%20%0A%20%20%20%20%0A%0A%20%20%20%20%20%20%20%20%20%20%20%20var%20circle_20964bd3dce947d0a3967e899415ae61%20%3D%20L.circle%28%0A%20%20%20%20%20%20%20%20%20%20%20%20%20%20%20%20%5B10.9094334%2C%2078.3665347%5D%2C%0A%20%20%20%20%20%20%20%20%20%20%20%20%20%20%20%20%7B%0A%20%20%22bubblingMouseEvents%22%3A%20true%2C%0A%20%20%22color%22%3A%20%22black%22%2C%0A%20%20%22dashArray%22%3A%20null%2C%0A%20%20%22dashOffset%22%3A%20null%2C%0A%20%20%22fill%22%3A%20true%2C%0A%20%20%22fillColor%22%3A%20%22black%22%2C%0A%20%20%22fillOpacity%22%3A%200.2%2C%0A%20%20%22fillRule%22%3A%20%22evenodd%22%2C%0A%20%20%22lineCap%22%3A%20%22round%22%2C%0A%20%20%22lineJoin%22%3A%20%22round%22%2C%0A%20%20%22opacity%22%3A%201.0%2C%0A%20%20%22radius%22%3A%20279614.0%2C%0A%20%20%22stroke%22%3A%20true%2C%0A%20%20%22weight%22%3A%203%0A%7D%0A%20%20%20%20%20%20%20%20%20%20%20%20%20%20%20%20%29%0A%20%20%20%20%20%20%20%20%20%20%20%20%20%20%20%20.addTo%28map_ac851d495ec544b1b9b66e6660509479%29%3B%0A%20%20%20%20%20%20%20%20%20%20%20%20%0A%20%20%20%20%0A%20%20%20%20%20%20%20%20%20%20%20%20var%20popup_a49803910abe47cf9a7f2ba0fb8b6ca5%20%3D%20L.popup%28%7BmaxWidth%3A%20%27100%25%27%0A%20%20%20%20%20%20%20%20%20%20%20%20%0A%20%20%20%20%20%20%20%20%20%20%20%20%7D%29%3B%0A%0A%20%20%20%20%20%20%20%20%20%20%20%20%0A%20%20%20%20%20%20%20%20%20%20%20%20%20%20%20%20var%20html_737c02e5e01a4b2ca1b01dcbde1fc9b5%20%3D%20%24%28%60%3Cdiv%20id%3D%22html_737c02e5e01a4b2ca1b01dcbde1fc9b5%22%20style%3D%22width%3A%20100.0%25%3B%20height%3A%20100.0%25%3B%22%3ETamil%20Nadu%20%20838842%20%20on%2001/02/2021%2021%3A07%3A07%3C/div%3E%60%29%5B0%5D%3B%0A%20%20%20%20%20%20%20%20%20%20%20%20%20%20%20%20popup_a49803910abe47cf9a7f2ba0fb8b6ca5.setContent%28html_737c02e5e01a4b2ca1b01dcbde1fc9b5%29%3B%0A%20%20%20%20%20%20%20%20%20%20%20%20%0A%0A%20%20%20%20%20%20%20%20%20%20%20%20circle_20964bd3dce947d0a3967e899415ae61.bindPopup%28popup_a49803910abe47cf9a7f2ba0fb8b6ca5%29%0A%20%20%20%20%20%20%20%20%20%20%20%20%3B%0A%0A%20%20%20%20%20%20%20%20%20%20%20%20%0A%20%20%20%20%20%20%20%20%0A%20%20%20%20%0A%0A%20%20%20%20%20%20%20%20%20%20%20%20var%20circle_7fa27a8a06a94099b90e021adbcf6a2a%20%3D%20L.circle%28%0A%20%20%20%20%20%20%20%20%20%20%20%20%20%20%20%20%5B10.3528744%2C%2076.5120396%5D%2C%0A%20%20%20%20%20%20%20%20%20%20%20%20%20%20%20%20%7B%0A%20%20%22bubblingMouseEvents%22%3A%20true%2C%0A%20%20%22color%22%3A%20%22black%22%2C%0A%20%20%22dashArray%22%3A%20null%2C%0A%20%20%22dashOffset%22%3A%20null%2C%0A%20%20%22fill%22%3A%20true%2C%0A%20%20%22fillColor%22%3A%20%22black%22%2C%0A%20%20%22fillOpacity%22%3A%200.2%2C%0A%20%20%22fillRule%22%3A%20%22evenodd%22%2C%0A%20%20%22lineCap%22%3A%20%22round%22%2C%0A%20%20%22lineJoin%22%3A%20%22round%22%2C%0A%20%20%22opacity%22%3A%201.0%2C%0A%20%20%22radius%22%3A%20310879.3333333333%2C%0A%20%20%22stroke%22%3A%20true%2C%0A%20%20%22weight%22%3A%203%0A%7D%0A%20%20%20%20%20%20%20%20%20%20%20%20%20%20%20%20%29%0A%20%20%20%20%20%20%20%20%20%20%20%20%20%20%20%20.addTo%28map_ac851d495ec544b1b9b66e6660509479%29%3B%0A%20%20%20%20%20%20%20%20%20%20%20%20%0A%20%20%20%20%0A%20%20%20%20%20%20%20%20%20%20%20%20var%20popup_0e9490e3e7a149e898ce7bb40ebdf0ef%20%3D%20L.popup%28%7BmaxWidth%3A%20%27100%25%27%0A%20%20%20%20%20%20%20%20%20%20%20%20%0A%20%20%20%20%20%20%20%20%20%20%20%20%7D%29%3B%0A%0A%20%20%20%20%20%20%20%20%20%20%20%20%0A%20%20%20%20%20%20%20%20%20%20%20%20%20%20%20%20var%20html_293e7a0257c3473bb543c7ebb17d52d0%20%3D%20%24%28%60%3Cdiv%20id%3D%22html_293e7a0257c3473bb543c7ebb17d52d0%22%20style%3D%22width%3A%20100.0%25%3B%20height%3A%20100.0%25%3B%22%3EKerala%20%20932638%20%20on%2001/02/2021%2020%3A12%3A03%3C/div%3E%60%29%5B0%5D%3B%0A%20%20%20%20%20%20%20%20%20%20%20%20%20%20%20%20popup_0e9490e3e7a149e898ce7bb40ebdf0ef.setContent%28html_293e7a0257c3473bb543c7ebb17d52d0%29%3B%0A%20%20%20%20%20%20%20%20%20%20%20%20%0A%0A%20%20%20%20%20%20%20%20%20%20%20%20circle_7fa27a8a06a94099b90e021adbcf6a2a.bindPopup%28popup_0e9490e3e7a149e898ce7bb40ebdf0ef%29%0A%20%20%20%20%20%20%20%20%20%20%20%20%3B%0A%0A%20%20%20%20%20%20%20%20%20%20%20%20%0A%20%20%20%20%20%20%20%20%0A%20%20%20%20%0A%0A%20%20%20%20%20%20%20%20%20%20%20%20var%20circle_7615341b63064c3cb6f6050e8a912730%20%3D%20L.circle%28%0A%20%20%20%20%20%20%20%20%20%20%20%20%20%20%20%20%5B28.6517178%2C%2077.2219388%5D%2C%0A%20%20%20%20%20%20%20%20%20%20%20%20%20%20%20%20%7B%0A%20%20%22bubblingMouseEvents%22%3A%20true%2C%0A%20%20%22color%22%3A%20%22black%22%2C%0A%20%20%22dashArray%22%3A%20null%2C%0A%20%20%22dashOffset%22%3A%20null%2C%0A%20%20%22fill%22%3A%20true%2C%0A%20%20%22fillColor%22%3A%20%22black%22%2C%0A%20%20%22fillOpacity%22%3A%200.2%2C%0A%20%20%22fillRule%22%3A%20%22evenodd%22%2C%0A%20%20%22lineCap%22%3A%20%22round%22%2C%0A%20%20%22lineJoin%22%3A%20%22round%22%2C%0A%20%20%22opacity%22%3A%201.0%2C%0A%20%20%22radius%22%3A%20211739.0%2C%0A%20%20%22stroke%22%3A%20true%2C%0A%20%20%22weight%22%3A%203%0A%7D%0A%20%20%20%20%20%20%20%20%20%20%20%20%20%20%20%20%29%0A%20%20%20%20%20%20%20%20%20%20%20%20%20%20%20%20.addTo%28map_ac851d495ec544b1b9b66e6660509479%29%3B%0A%20%20%20%20%20%20%20%20%20%20%20%20%0A%20%20%20%20%0A%20%20%20%20%20%20%20%20%20%20%20%20var%20popup_b18a8a00882d415c9c2b120326fb0def%20%3D%20L.popup%28%7BmaxWidth%3A%20%27100%25%27%0A%20%20%20%20%20%20%20%20%20%20%20%20%0A%20%20%20%20%20%20%20%20%20%20%20%20%7D%29%3B%0A%0A%20%20%20%20%20%20%20%20%20%20%20%20%0A%20%20%20%20%20%20%20%20%20%20%20%20%20%20%20%20var%20html_3f6a71a28fcf4d74b0ff76877d1c312a%20%3D%20%24%28%60%3Cdiv%20id%3D%22html_3f6a71a28fcf4d74b0ff76877d1c312a%22%20style%3D%22width%3A%20100.0%25%3B%20height%3A%20100.0%25%3B%22%3EDelhi%20%20635217%20%20on%2001/02/2021%2019%3A44%3A17%3C/div%3E%60%29%5B0%5D%3B%0A%20%20%20%20%20%20%20%20%20%20%20%20%20%20%20%20popup_b18a8a00882d415c9c2b120326fb0def.setContent%28html_3f6a71a28fcf4d74b0ff76877d1c312a%29%3B%0A%20%20%20%20%20%20%20%20%20%20%20%20%0A%0A%20%20%20%20%20%20%20%20%20%20%20%20circle_7615341b63064c3cb6f6050e8a912730.bindPopup%28popup_b18a8a00882d415c9c2b120326fb0def%29%0A%20%20%20%20%20%20%20%20%20%20%20%20%3B%0A%0A%20%20%20%20%20%20%20%20%20%20%20%20%0A%20%20%20%20%20%20%20%20%0A%20%20%20%20%0A%0A%20%20%20%20%20%20%20%20%20%20%20%20var%20circle_cac0addc89b444d1944a6449f03eea76%20%3D%20L.circle%28%0A%20%20%20%20%20%20%20%20%20%20%20%20%20%20%20%20%5B27.1303344%2C%2080.859666%5D%2C%0A%20%20%20%20%20%20%20%20%20%20%20%20%20%20%20%20%7B%0A%20%20%22bubblingMouseEvents%22%3A%20true%2C%0A%20%20%22color%22%3A%20%22black%22%2C%0A%20%20%22dashArray%22%3A%20null%2C%0A%20%20%22dashOffset%22%3A%20null%2C%0A%20%20%22fill%22%3A%20true%2C%0A%20%20%22fillColor%22%3A%20%22black%22%2C%0A%20%20%22fillOpacity%22%3A%200.2%2C%0A%20%20%22fillRule%22%3A%20%22evenodd%22%2C%0A%20%20%22lineCap%22%3A%20%22round%22%2C%0A%20%20%22lineJoin%22%3A%20%22round%22%2C%0A%20%20%22opacity%22%3A%201.0%2C%0A%20%20%22radius%22%3A%20200156.66666666666%2C%0A%20%20%22stroke%22%3A%20true%2C%0A%20%20%22weight%22%3A%203%0A%7D%0A%20%20%20%20%20%20%20%20%20%20%20%20%20%20%20%20%29%0A%20%20%20%20%20%20%20%20%20%20%20%20%20%20%20%20.addTo%28map_ac851d495ec544b1b9b66e6660509479%29%3B%0A%20%20%20%20%20%20%20%20%20%20%20%20%0A%20%20%20%20%0A%20%20%20%20%20%20%20%20%20%20%20%20var%20popup_5b1dc48c660f46f68d7685f3b46a9cf8%20%3D%20L.popup%28%7BmaxWidth%3A%20%27100%25%27%0A%20%20%20%20%20%20%20%20%20%20%20%20%0A%20%20%20%20%20%20%20%20%20%20%20%20%7D%29%3B%0A%0A%20%20%20%20%20%20%20%20%20%20%20%20%0A%20%20%20%20%20%20%20%20%20%20%20%20%20%20%20%20var%20html_8561a6b011354faeb1253566e6fabeeb%20%3D%20%24%28%60%3Cdiv%20id%3D%22html_8561a6b011354faeb1253566e6fabeeb%22%20style%3D%22width%3A%20100.0%25%3B%20height%3A%20100.0%25%3B%22%3EUttar%20Pradesh%20%20600470%20%20on%2001/02/2021%2022%3A49%3A02%3C/div%3E%60%29%5B0%5D%3B%0A%20%20%20%20%20%20%20%20%20%20%20%20%20%20%20%20popup_5b1dc48c660f46f68d7685f3b46a9cf8.setContent%28html_8561a6b011354faeb1253566e6fabeeb%29%3B%0A%20%20%20%20%20%20%20%20%20%20%20%20%0A%0A%20%20%20%20%20%20%20%20%20%20%20%20circle_cac0addc89b444d1944a6449f03eea76.bindPopup%28popup_5b1dc48c660f46f68d7685f3b46a9cf8%29%0A%20%20%20%20%20%20%20%20%20%20%20%20%3B%0A%0A%20%20%20%20%20%20%20%20%20%20%20%20%0A%20%20%20%20%20%20%20%20%0A%20%20%20%20%0A%0A%20%20%20%20%20%20%20%20%20%20%20%20var%20circle_62a9f55832de46b182778a736be1174a%20%3D%20L.circle%28%0A%20%20%20%20%20%20%20%20%20%20%20%20%20%20%20%20%5B22.9964948%2C%2087.6855882%5D%2C%0A%20%20%20%20%20%20%20%20%20%20%20%20%20%20%20%20%7B%0A%20%20%22bubblingMouseEvents%22%3A%20true%2C%0A%20%20%22color%22%3A%20%22black%22%2C%0A%20%20%22dashArray%22%3A%20null%2C%0A%20%20%22dashOffset%22%3A%20null%2C%0A%20%20%22fill%22%3A%20true%2C%0A%20%20%22fillColor%22%3A%20%22black%22%2C%0A%20%20%22fillOpacity%22%3A%200.2%2C%0A%20%20%22fillRule%22%3A%20%22evenodd%22%2C%0A%20%20%22lineCap%22%3A%20%22round%22%2C%0A%20%20%22lineJoin%22%3A%20%22round%22%2C%0A%20%20%22opacity%22%3A%201.0%2C%0A%20%20%22radius%22%3A%20190059.0%2C%0A%20%20%22stroke%22%3A%20true%2C%0A%20%20%22weight%22%3A%203%0A%7D%0A%20%20%20%20%20%20%20%20%20%20%20%20%20%20%20%20%29%0A%20%20%20%20%20%20%20%20%20%20%20%20%20%20%20%20.addTo%28map_ac851d495ec544b1b9b66e6660509479%29%3B%0A%20%20%20%20%20%20%20%20%20%20%20%20%0A%20%20%20%20%0A%20%20%20%20%20%20%20%20%20%20%20%20var%20popup_9935f1d6b86d4adaad0a531fb939a218%20%3D%20L.popup%28%7BmaxWidth%3A%20%27100%25%27%0A%20%20%20%20%20%20%20%20%20%20%20%20%0A%20%20%20%20%20%20%20%20%20%20%20%20%7D%29%3B%0A%0A%20%20%20%20%20%20%20%20%20%20%20%20%0A%20%20%20%20%20%20%20%20%20%20%20%20%20%20%20%20var%20html_c7384778d80c4eff92319b8167a355ce%20%3D%20%24%28%60%3Cdiv%20id%3D%22html_c7384778d80c4eff92319b8167a355ce%22%20style%3D%22width%3A%20100.0%25%3B%20height%3A%20100.0%25%3B%22%3EWest%20Bengal%20%20570177%20%20on%2001/02/2021%2020%3A35%3A11%3C/div%3E%60%29%5B0%5D%3B%0A%20%20%20%20%20%20%20%20%20%20%20%20%20%20%20%20popup_9935f1d6b86d4adaad0a531fb939a218.setContent%28html_c7384778d80c4eff92319b8167a355ce%29%3B%0A%20%20%20%20%20%20%20%20%20%20%20%20%0A%0A%20%20%20%20%20%20%20%20%20%20%20%20circle_62a9f55832de46b182778a736be1174a.bindPopup%28popup_9935f1d6b86d4adaad0a531fb939a218%29%0A%20%20%20%20%20%20%20%20%20%20%20%20%3B%0A%0A%20%20%20%20%20%20%20%20%20%20%20%20%0A%20%20%20%20%20%20%20%20%0A%20%20%20%20%0A%0A%20%20%20%20%20%20%20%20%20%20%20%20var%20circle_c500b5c5e97446aca1f70abbc042c101%20%3D%20L.circle%28%0A%20%20%20%20%20%20%20%20%20%20%20%20%20%20%20%20%5B20.5431241%2C%2084.6897321%5D%2C%0A%20%20%20%20%20%20%20%20%20%20%20%20%20%20%20%20%7B%0A%20%20%22bubblingMouseEvents%22%3A%20true%2C%0A%20%20%22color%22%3A%20%22black%22%2C%0A%20%20%22dashArray%22%3A%20null%2C%0A%20%20%22dashOffset%22%3A%20null%2C%0A%20%20%22fill%22%3A%20true%2C%0A%20%20%22fillColor%22%3A%20%22black%22%2C%0A%20%20%22fillOpacity%22%3A%200.2%2C%0A%20%20%22fillRule%22%3A%20%22evenodd%22%2C%0A%20%20%22lineCap%22%3A%20%22round%22%2C%0A%20%20%22lineJoin%22%3A%20%22round%22%2C%0A%20%20%22opacity%22%3A%201.0%2C%0A%20%20%22radius%22%3A%20111717.0%2C%0A%20%20%22stroke%22%3A%20true%2C%0A%20%20%22weight%22%3A%203%0A%7D%0A%20%20%20%20%20%20%20%20%20%20%20%20%20%20%20%20%29%0A%20%20%20%20%20%20%20%20%20%20%20%20%20%20%20%20.addTo%28map_ac851d495ec544b1b9b66e6660509479%29%3B%0A%20%20%20%20%20%20%20%20%20%20%20%20%0A%20%20%20%20%0A%20%20%20%20%20%20%20%20%20%20%20%20var%20popup_56980d0dde1e44eea226b3fe65f21685%20%3D%20L.popup%28%7BmaxWidth%3A%20%27100%25%27%0A%20%20%20%20%20%20%20%20%20%20%20%20%0A%20%20%20%20%20%20%20%20%20%20%20%20%7D%29%3B%0A%0A%20%20%20%20%20%20%20%20%20%20%20%20%0A%20%20%20%20%20%20%20%20%20%20%20%20%20%20%20%20var%20html_684e6685ff3a42348b7a739ea272f318%20%3D%20%24%28%60%3Cdiv%20id%3D%22html_684e6685ff3a42348b7a739ea272f318%22%20style%3D%22width%3A%20100.0%25%3B%20height%3A%20100.0%25%3B%22%3EOdisha%20%20335151%20%20on%2001/02/2021%2021%3A52%3A02%3C/div%3E%60%29%5B0%5D%3B%0A%20%20%20%20%20%20%20%20%20%20%20%20%20%20%20%20popup_56980d0dde1e44eea226b3fe65f21685.setContent%28html_684e6685ff3a42348b7a739ea272f318%29%3B%0A%20%20%20%20%20%20%20%20%20%20%20%20%0A%0A%20%20%20%20%20%20%20%20%20%20%20%20circle_c500b5c5e97446aca1f70abbc042c101.bindPopup%28popup_56980d0dde1e44eea226b3fe65f21685%29%0A%20%20%20%20%20%20%20%20%20%20%20%20%3B%0A%0A%20%20%20%20%20%20%20%20%20%20%20%20%0A%20%20%20%20%20%20%20%20%0A%20%20%20%20%0A%0A%20%20%20%20%20%20%20%20%20%20%20%20var%20circle_27b4fe0d70474fb59b6bedcf71462db8%20%3D%20L.circle%28%0A%20%20%20%20%20%20%20%20%20%20%20%20%20%20%20%20%5B26.8105777%2C%2073.7684549%5D%2C%0A%20%20%20%20%20%20%20%20%20%20%20%20%20%20%20%20%7B%0A%20%20%22bubblingMouseEvents%22%3A%20true%2C%0A%20%20%22color%22%3A%20%22black%22%2C%0A%20%20%22dashArray%22%3A%20null%2C%0A%20%20%22dashOffset%22%3A%20null%2C%0A%20%20%22fill%22%3A%20true%2C%0A%20%20%22fillColor%22%3A%20%22black%22%2C%0A%20%20%22fillOpacity%22%3A%200.2%2C%0A%20%20%22fillRule%22%3A%20%22evenodd%22%2C%0A%20%20%22lineCap%22%3A%20%22round%22%2C%0A%20%20%22lineJoin%22%3A%20%22round%22%2C%0A%20%20%22opacity%22%3A%201.0%2C%0A%20%20%22radius%22%3A%20105862.33333333333%2C%0A%20%20%22stroke%22%3A%20true%2C%0A%20%20%22weight%22%3A%203%0A%7D%0A%20%20%20%20%20%20%20%20%20%20%20%20%20%20%20%20%29%0A%20%20%20%20%20%20%20%20%20%20%20%20%20%20%20%20.addTo%28map_ac851d495ec544b1b9b66e6660509479%29%3B%0A%20%20%20%20%20%20%20%20%20%20%20%20%0A%20%20%20%20%0A%20%20%20%20%20%20%20%20%20%20%20%20var%20popup_d6f8aa46961747f594fd850fc75fdbac%20%3D%20L.popup%28%7BmaxWidth%3A%20%27100%25%27%0A%20%20%20%20%20%20%20%20%20%20%20%20%0A%20%20%20%20%20%20%20%20%20%20%20%20%7D%29%3B%0A%0A%20%20%20%20%20%20%20%20%20%20%20%20%0A%20%20%20%20%20%20%20%20%20%20%20%20%20%20%20%20var%20html_992a1caa40d74a3a91396d458377e50e%20%3D%20%24%28%60%3Cdiv%20id%3D%22html_992a1caa40d74a3a91396d458377e50e%22%20style%3D%22width%3A%20100.0%25%3B%20height%3A%20100.0%25%3B%22%3ERajasthan%20%20317587%20%20on%2001/02/2021%2021%3A07%3A09%3C/div%3E%60%29%5B0%5D%3B%0A%20%20%20%20%20%20%20%20%20%20%20%20%20%20%20%20popup_d6f8aa46961747f594fd850fc75fdbac.setContent%28html_992a1caa40d74a3a91396d458377e50e%29%3B%0A%20%20%20%20%20%20%20%20%20%20%20%20%0A%0A%20%20%20%20%20%20%20%20%20%20%20%20circle_27b4fe0d70474fb59b6bedcf71462db8.bindPopup%28popup_d6f8aa46961747f594fd850fc75fdbac%29%0A%20%20%20%20%20%20%20%20%20%20%20%20%3B%0A%0A%20%20%20%20%20%20%20%20%20%20%20%20%0A%20%20%20%20%20%20%20%20%0A%20%20%20%20%0A%0A%20%20%20%20%20%20%20%20%20%20%20%20var%20circle_ab7cf0f1ccc7474692ad30c8351d8fdf%20%3D%20L.circle%28%0A%20%20%20%20%20%20%20%20%20%20%20%20%20%20%20%20%5B17.8495919%2C%2079.1151663%5D%2C%0A%20%20%20%20%20%20%20%20%20%20%20%20%20%20%20%20%7B%0A%20%20%22bubblingMouseEvents%22%3A%20true%2C%0A%20%20%22color%22%3A%20%22black%22%2C%0A%20%20%22dashArray%22%3A%20null%2C%0A%20%20%22dashOffset%22%3A%20null%2C%0A%20%20%22fill%22%3A%20true%2C%0A%20%20%22fillColor%22%3A%20%22black%22%2C%0A%20%20%22fillOpacity%22%3A%200.2%2C%0A%20%20%22fillRule%22%3A%20%22evenodd%22%2C%0A%20%20%22lineCap%22%3A%20%22round%22%2C%0A%20%20%22lineJoin%22%3A%20%22round%22%2C%0A%20%20%22opacity%22%3A%201.0%2C%0A%20%20%22radius%22%3A%2098195.66666666667%2C%0A%20%20%22stroke%22%3A%20true%2C%0A%20%20%22weight%22%3A%203%0A%7D%0A%20%20%20%20%20%20%20%20%20%20%20%20%20%20%20%20%29%0A%20%20%20%20%20%20%20%20%20%20%20%20%20%20%20%20.addTo%28map_ac851d495ec544b1b9b66e6660509479%29%3B%0A%20%20%20%20%20%20%20%20%20%20%20%20%0A%20%20%20%20%0A%20%20%20%20%20%20%20%20%20%20%20%20var%20popup_eb75da1b1a4249b9b4ef4410621ea689%20%3D%20L.popup%28%7BmaxWidth%3A%20%27100%25%27%0A%20%20%20%20%20%20%20%20%20%20%20%20%0A%20%20%20%20%20%20%20%20%20%20%20%20%7D%29%3B%0A%0A%20%20%20%20%20%20%20%20%20%20%20%20%0A%20%20%20%20%20%20%20%20%20%20%20%20%20%20%20%20var%20html_eccabcf170e943a9b3d73472560e1f7d%20%3D%20%24%28%60%3Cdiv%20id%3D%22html_eccabcf170e943a9b3d73472560e1f7d%22%20style%3D%22width%3A%20100.0%25%3B%20height%3A%20100.0%25%3B%22%3ETelangana%20%20294587%20%20on%2001/02/2021%2019%3A36%3A06%3C/div%3E%60%29%5B0%5D%3B%0A%20%20%20%20%20%20%20%20%20%20%20%20%20%20%20%20popup_eb75da1b1a4249b9b4ef4410621ea689.setContent%28html_eccabcf170e943a9b3d73472560e1f7d%29%3B%0A%20%20%20%20%20%20%20%20%20%20%20%20%0A%0A%20%20%20%20%20%20%20%20%20%20%20%20circle_ab7cf0f1ccc7474692ad30c8351d8fdf.bindPopup%28popup_eb75da1b1a4249b9b4ef4410621ea689%29%0A%20%20%20%20%20%20%20%20%20%20%20%20%3B%0A%0A%20%20%20%20%20%20%20%20%20%20%20%20%0A%20%20%20%20%20%20%20%20%0A%20%20%20%20%0A%0A%20%20%20%20%20%20%20%20%20%20%20%20var%20circle_aaa5670e73e646759c990691de2fa9ed%20%3D%20L.circle%28%0A%20%20%20%20%20%20%20%20%20%20%20%20%20%20%20%20%5B21.6637359%2C%2081.8406351%5D%2C%0A%20%20%20%20%20%20%20%20%20%20%20%20%20%20%20%20%7B%0A%20%20%22bubblingMouseEvents%22%3A%20true%2C%0A%20%20%22color%22%3A%20%22black%22%2C%0A%20%20%22dashArray%22%3A%20null%2C%0A%20%20%22dashOffset%22%3A%20null%2C%0A%20%20%22fill%22%3A%20true%2C%0A%20%20%22fillColor%22%3A%20%22black%22%2C%0A%20%20%22fillOpacity%22%3A%200.2%2C%0A%20%20%22fillRule%22%3A%20%22evenodd%22%2C%0A%20%20%22lineCap%22%3A%20%22round%22%2C%0A%20%20%22lineJoin%22%3A%20%22round%22%2C%0A%20%20%22opacity%22%3A%201.0%2C%0A%20%20%22radius%22%3A%20101896.33333333333%2C%0A%20%20%22stroke%22%3A%20true%2C%0A%20%20%22weight%22%3A%203%0A%7D%0A%20%20%20%20%20%20%20%20%20%20%20%20%20%20%20%20%29%0A%20%20%20%20%20%20%20%20%20%20%20%20%20%20%20%20.addTo%28map_ac851d495ec544b1b9b66e6660509479%29%3B%0A%20%20%20%20%20%20%20%20%20%20%20%20%0A%20%20%20%20%0A%20%20%20%20%20%20%20%20%20%20%20%20var%20popup_0b8b1ff774f54ee6927497c3cf64da5f%20%3D%20L.popup%28%7BmaxWidth%3A%20%27100%25%27%0A%20%20%20%20%20%20%20%20%20%20%20%20%0A%20%20%20%20%20%20%20%20%20%20%20%20%7D%29%3B%0A%0A%20%20%20%20%20%20%20%20%20%20%20%20%0A%20%20%20%20%20%20%20%20%20%20%20%20%20%20%20%20var%20html_db6271ff9244448c84cf220327f5e52c%20%3D%20%24%28%60%3Cdiv%20id%3D%22html_db6271ff9244448c84cf220327f5e52c%22%20style%3D%22width%3A%20100.0%25%3B%20height%3A%20100.0%25%3B%22%3EChhattisgarh%20%20305689%20%20on%2001/02/2021%2021%3A32%3A38%3C/div%3E%60%29%5B0%5D%3B%0A%20%20%20%20%20%20%20%20%20%20%20%20%20%20%20%20popup_0b8b1ff774f54ee6927497c3cf64da5f.setContent%28html_db6271ff9244448c84cf220327f5e52c%29%3B%0A%20%20%20%20%20%20%20%20%20%20%20%20%0A%0A%20%20%20%20%20%20%20%20%20%20%20%20circle_aaa5670e73e646759c990691de2fa9ed.bindPopup%28popup_0b8b1ff774f54ee6927497c3cf64da5f%29%0A%20%20%20%20%20%20%20%20%20%20%20%20%3B%0A%0A%20%20%20%20%20%20%20%20%20%20%20%20%0A%20%20%20%20%20%20%20%20%0A%20%20%20%20%0A%0A%20%20%20%20%20%20%20%20%20%20%20%20var%20circle_288749d2fb364b389b2beff7976af35b%20%3D%20L.circle%28%0A%20%20%20%20%20%20%20%20%20%20%20%20%20%20%20%20%5B29.0%2C%2076.0%5D%2C%0A%20%20%20%20%20%20%20%20%20%20%20%20%20%20%20%20%7B%0A%20%20%22bubblingMouseEvents%22%3A%20true%2C%0A%20%20%22color%22%3A%20%22black%22%2C%0A%20%20%22dashArray%22%3A%20null%2C%0A%20%20%22dashOffset%22%3A%20null%2C%0A%20%20%22fill%22%3A%20true%2C%0A%20%20%22fillColor%22%3A%20%22black%22%2C%0A%20%20%22fillOpacity%22%3A%200.2%2C%0A%20%20%22fillRule%22%3A%20%22evenodd%22%2C%0A%20%20%22lineCap%22%3A%20%22round%22%2C%0A%20%20%22lineJoin%22%3A%20%22round%22%2C%0A%20%20%22opacity%22%3A%201.0%2C%0A%20%20%22radius%22%3A%2089329.66666666667%2C%0A%20%20%22stroke%22%3A%20true%2C%0A%20%20%22weight%22%3A%203%0A%7D%0A%20%20%20%20%20%20%20%20%20%20%20%20%20%20%20%20%29%0A%20%20%20%20%20%20%20%20%20%20%20%20%20%20%20%20.addTo%28map_ac851d495ec544b1b9b66e6660509479%29%3B%0A%20%20%20%20%20%20%20%20%20%20%20%20%0A%20%20%20%20%0A%20%20%20%20%20%20%20%20%20%20%20%20var%20popup_f3cd3532a0d14c419cd43d9812186fe2%20%3D%20L.popup%28%7BmaxWidth%3A%20%27100%25%27%0A%20%20%20%20%20%20%20%20%20%20%20%20%0A%20%20%20%20%20%20%20%20%20%20%20%20%7D%29%3B%0A%0A%20%20%20%20%20%20%20%20%20%20%20%20%0A%20%20%20%20%20%20%20%20%20%20%20%20%20%20%20%20var%20html_b1b1e767aeda40e2b830843c570cdf59%20%3D%20%24%28%60%3Cdiv%20id%3D%22html_b1b1e767aeda40e2b830843c570cdf59%22%20style%3D%22width%3A%20100.0%25%3B%20height%3A%20100.0%25%3B%22%3EHaryana%20%20267989%20%20on%2001/02/2021%2020%3A35%3A19%3C/div%3E%60%29%5B0%5D%3B%0A%20%20%20%20%20%20%20%20%20%20%20%20%20%20%20%20popup_f3cd3532a0d14c419cd43d9812186fe2.setContent%28html_b1b1e767aeda40e2b830843c570cdf59%29%3B%0A%20%20%20%20%20%20%20%20%20%20%20%20%0A%0A%20%20%20%20%20%20%20%20%20%20%20%20circle_288749d2fb364b389b2beff7976af35b.bindPopup%28popup_f3cd3532a0d14c419cd43d9812186fe2%29%0A%20%20%20%20%20%20%20%20%20%20%20%20%3B%0A%0A%20%20%20%20%20%20%20%20%20%20%20%20%0A%20%20%20%20%20%20%20%20%0A%20%20%20%20%0A%0A%20%20%20%20%20%20%20%20%20%20%20%20var%20circle_ac41e6e3d7bd47d0a7df0406d24f45b7%20%3D%20L.circle%28%0A%20%20%20%20%20%20%20%20%20%20%20%20%20%20%20%20%5B25.6440845%2C%2085.906508%5D%2C%0A%20%20%20%20%20%20%20%20%20%20%20%20%20%20%20%20%7B%0A%20%20%22bubblingMouseEvents%22%3A%20true%2C%0A%20%20%22color%22%3A%20%22black%22%2C%0A%20%20%22dashArray%22%3A%20null%2C%0A%20%20%22dashOffset%22%3A%20null%2C%0A%20%20%22fill%22%3A%20true%2C%0A%20%20%22fillColor%22%3A%20%22black%22%2C%0A%20%20%22fillOpacity%22%3A%200.2%2C%0A%20%20%22fillRule%22%3A%20%22evenodd%22%2C%0A%20%20%22lineCap%22%3A%20%22round%22%2C%0A%20%20%22lineJoin%22%3A%20%22round%22%2C%0A%20%20%22opacity%22%3A%201.0%2C%0A%20%20%22radius%22%3A%2086931.33333333333%2C%0A%20%20%22stroke%22%3A%20true%2C%0A%20%20%22weight%22%3A%203%0A%7D%0A%20%20%20%20%20%20%20%20%20%20%20%20%20%20%20%20%29%0A%20%20%20%20%20%20%20%20%20%20%20%20%20%20%20%20.addTo%28map_ac851d495ec544b1b9b66e6660509479%29%3B%0A%20%20%20%20%20%20%20%20%20%20%20%20%0A%20%20%20%20%0A%20%20%20%20%20%20%20%20%20%20%20%20var%20popup_c43d5ef0636940ac90e03b46877d74d8%20%3D%20L.popup%28%7BmaxWidth%3A%20%27100%25%27%0A%20%20%20%20%20%20%20%20%20%20%20%20%0A%20%20%20%20%20%20%20%20%20%20%20%20%7D%29%3B%0A%0A%20%20%20%20%20%20%20%20%20%20%20%20%0A%20%20%20%20%20%20%20%20%20%20%20%20%20%20%20%20var%20html_87f1d1b635c7407ba8803e7b586bb939%20%3D%20%24%28%60%3Cdiv%20id%3D%22html_87f1d1b635c7407ba8803e7b586bb939%22%20style%3D%22width%3A%20100.0%25%3B%20height%3A%20100.0%25%3B%22%3EBihar%20%20260794%20%20on%2001/02/2021%2021%3A32%3A58%3C/div%3E%60%29%5B0%5D%3B%0A%20%20%20%20%20%20%20%20%20%20%20%20%20%20%20%20popup_c43d5ef0636940ac90e03b46877d74d8.setContent%28html_87f1d1b635c7407ba8803e7b586bb939%29%3B%0A%20%20%20%20%20%20%20%20%20%20%20%20%0A%0A%20%20%20%20%20%20%20%20%20%20%20%20circle_ac41e6e3d7bd47d0a7df0406d24f45b7.bindPopup%28popup_c43d5ef0636940ac90e03b46877d74d8%29%0A%20%20%20%20%20%20%20%20%20%20%20%20%3B%0A%0A%20%20%20%20%20%20%20%20%20%20%20%20%0A%20%20%20%20%20%20%20%20%0A%20%20%20%20%0A%0A%20%20%20%20%20%20%20%20%20%20%20%20var%20circle_00c7482bf5c64fcfb22e3df18f1e35cf%20%3D%20L.circle%28%0A%20%20%20%20%20%20%20%20%20%20%20%20%20%20%20%20%5B22.3850008%2C%2071.7452633%5D%2C%0A%20%20%20%20%20%20%20%20%20%20%20%20%20%20%20%20%7B%0A%20%20%22bubblingMouseEvents%22%3A%20true%2C%0A%20%20%22color%22%3A%20%22black%22%2C%0A%20%20%22dashArray%22%3A%20null%2C%0A%20%20%22dashOffset%22%3A%20null%2C%0A%20%20%22fill%22%3A%20true%2C%0A%20%20%22fillColor%22%3A%20%22black%22%2C%0A%20%20%22fillOpacity%22%3A%200.2%2C%0A%20%20%22fillRule%22%3A%20%22evenodd%22%2C%0A%20%20%22lineCap%22%3A%20%22round%22%2C%0A%20%20%22lineJoin%22%3A%20%22round%22%2C%0A%20%20%22opacity%22%3A%201.0%2C%0A%20%20%22radius%22%3A%2087279.33333333333%2C%0A%20%20%22stroke%22%3A%20true%2C%0A%20%20%22weight%22%3A%203%0A%7D%0A%20%20%20%20%20%20%20%20%20%20%20%20%20%20%20%20%29%0A%20%20%20%20%20%20%20%20%20%20%20%20%20%20%20%20.addTo%28map_ac851d495ec544b1b9b66e6660509479%29%3B%0A%20%20%20%20%20%20%20%20%20%20%20%20%0A%20%20%20%20%0A%20%20%20%20%20%20%20%20%20%20%20%20var%20popup_b4ed59f2a6c64f0a88727c6ff32b0348%20%3D%20L.popup%28%7BmaxWidth%3A%20%27100%25%27%0A%20%20%20%20%20%20%20%20%20%20%20%20%0A%20%20%20%20%20%20%20%20%20%20%20%20%7D%29%3B%0A%0A%20%20%20%20%20%20%20%20%20%20%20%20%0A%20%20%20%20%20%20%20%20%20%20%20%20%20%20%20%20var%20html_8aab506595284d62bd45e3b5b986ccd2%20%3D%20%24%28%60%3Cdiv%20id%3D%22html_8aab506595284d62bd45e3b5b986ccd2%22%20style%3D%22width%3A%20100.0%25%3B%20height%3A%20100.0%25%3B%22%3EGujarat%20%20261838%20%20on%2001/02/2021%2020%3A46%3A12%3C/div%3E%60%29%5B0%5D%3B%0A%20%20%20%20%20%20%20%20%20%20%20%20%20%20%20%20popup_b4ed59f2a6c64f0a88727c6ff32b0348.setContent%28html_8aab506595284d62bd45e3b5b986ccd2%29%3B%0A%20%20%20%20%20%20%20%20%20%20%20%20%0A%0A%20%20%20%20%20%20%20%20%20%20%20%20circle_00c7482bf5c64fcfb22e3df18f1e35cf.bindPopup%28popup_b4ed59f2a6c64f0a88727c6ff32b0348%29%0A%20%20%20%20%20%20%20%20%20%20%20%20%3B%0A%0A%20%20%20%20%20%20%20%20%20%20%20%20%0A%20%20%20%20%20%20%20%20%0A%20%20%20%20%0A%0A%20%20%20%20%20%20%20%20%20%20%20%20var%20circle_c484ac81c65745a5b04af92175dce695%20%3D%20L.circle%28%0A%20%20%20%20%20%20%20%20%20%20%20%20%20%20%20%20%5B23.8143419%2C%2077.5340719%5D%2C%0A%20%20%20%20%20%20%20%20%20%20%20%20%20%20%20%20%7B%0A%20%20%22bubblingMouseEvents%22%3A%20true%2C%0A%20%20%22color%22%3A%20%22black%22%2C%0A%20%20%22dashArray%22%3A%20null%2C%0A%20%20%22dashOffset%22%3A%20null%2C%0A%20%20%22fill%22%3A%20true%2C%0A%20%20%22fillColor%22%3A%20%22black%22%2C%0A%20%20%22fillOpacity%22%3A%200.2%2C%0A%20%20%22fillRule%22%3A%20%22evenodd%22%2C%0A%20%20%22lineCap%22%3A%20%22round%22%2C%0A%20%20%22lineJoin%22%3A%20%22round%22%2C%0A%20%20%22opacity%22%3A%201.0%2C%0A%20%20%22radius%22%3A%2085087.66666666667%2C%0A%20%20%22stroke%22%3A%20true%2C%0A%20%20%22weight%22%3A%203%0A%7D%0A%20%20%20%20%20%20%20%20%20%20%20%20%20%20%20%20%29%0A%20%20%20%20%20%20%20%20%20%20%20%20%20%20%20%20.addTo%28map_ac851d495ec544b1b9b66e6660509479%29%3B%0A%20%20%20%20%20%20%20%20%20%20%20%20%0A%20%20%20%20%0A%20%20%20%20%20%20%20%20%20%20%20%20var%20popup_087dc10cfa374213b95c715e2ea2bbc9%20%3D%20L.popup%28%7BmaxWidth%3A%20%27100%25%27%0A%20%20%20%20%20%20%20%20%20%20%20%20%0A%20%20%20%20%20%20%20%20%20%20%20%20%7D%29%3B%0A%0A%20%20%20%20%20%20%20%20%20%20%20%20%0A%20%20%20%20%20%20%20%20%20%20%20%20%20%20%20%20var%20html_0c61c00d2fd94796b6716b3d47e54b1e%20%3D%20%24%28%60%3Cdiv%20id%3D%22html_0c61c00d2fd94796b6716b3d47e54b1e%22%20style%3D%22width%3A%20100.0%25%3B%20height%3A%20100.0%25%3B%22%3EMadhya%20Pradesh%20%20255263%20%20on%2001/02/2021%2022%3A49%3A04%3C/div%3E%60%29%5B0%5D%3B%0A%20%20%20%20%20%20%20%20%20%20%20%20%20%20%20%20popup_087dc10cfa374213b95c715e2ea2bbc9.setContent%28html_0c61c00d2fd94796b6716b3d47e54b1e%29%3B%0A%20%20%20%20%20%20%20%20%20%20%20%20%0A%0A%20%20%20%20%20%20%20%20%20%20%20%20circle_c484ac81c65745a5b04af92175dce695.bindPopup%28popup_087dc10cfa374213b95c715e2ea2bbc9%29%0A%20%20%20%20%20%20%20%20%20%20%20%20%3B%0A%0A%20%20%20%20%20%20%20%20%20%20%20%20%0A%20%20%20%20%20%20%20%20%0A%20%20%20%20%0A%0A%20%20%20%20%20%20%20%20%20%20%20%20var%20circle_6b50f28483c6480688b580dbb9608369%20%3D%20L.circle%28%0A%20%20%20%20%20%20%20%20%20%20%20%20%20%20%20%20%5B26.4073841%2C%2093.2551303%5D%2C%0A%20%20%20%20%20%20%20%20%20%20%20%20%20%20%20%20%7B%0A%20%20%22bubblingMouseEvents%22%3A%20true%2C%0A%20%20%22color%22%3A%20%22black%22%2C%0A%20%20%22dashArray%22%3A%20null%2C%0A%20%20%22dashOffset%22%3A%20null%2C%0A%20%20%22fill%22%3A%20true%2C%0A%20%20%22fillColor%22%3A%20%22black%22%2C%0A%20%20%22fillOpacity%22%3A%200.2%2C%0A%20%20%22fillRule%22%3A%20%22evenodd%22%2C%0A%20%20%22lineCap%22%3A%20%22round%22%2C%0A%20%20%22lineJoin%22%3A%20%22round%22%2C%0A%20%20%22opacity%22%3A%201.0%2C%0A%20%20%22radius%22%3A%2072384.66666666667%2C%0A%20%20%22stroke%22%3A%20true%2C%0A%20%20%22weight%22%3A%203%0A%7D%0A%20%20%20%20%20%20%20%20%20%20%20%20%20%20%20%20%29%0A%20%20%20%20%20%20%20%20%20%20%20%20%20%20%20%20.addTo%28map_ac851d495ec544b1b9b66e6660509479%29%3B%0A%20%20%20%20%20%20%20%20%20%20%20%20%0A%20%20%20%20%0A%20%20%20%20%20%20%20%20%20%20%20%20var%20popup_596f3da17222497099a7f8c044fce0a2%20%3D%20L.popup%28%7BmaxWidth%3A%20%27100%25%27%0A%20%20%20%20%20%20%20%20%20%20%20%20%0A%20%20%20%20%20%20%20%20%20%20%20%20%7D%29%3B%0A%0A%20%20%20%20%20%20%20%20%20%20%20%20%0A%20%20%20%20%20%20%20%20%20%20%20%20%20%20%20%20var%20html_840a575ea1284c268a61270b78b283cf%20%3D%20%24%28%60%3Cdiv%20id%3D%22html_840a575ea1284c268a61270b78b283cf%22%20style%3D%22width%3A%20100.0%25%3B%20height%3A%20100.0%25%3B%22%3EAssam%20%20217154%20%20on%2001/02/2021%2022%3A49%3A06%3C/div%3E%60%29%5B0%5D%3B%0A%20%20%20%20%20%20%20%20%20%20%20%20%20%20%20%20popup_596f3da17222497099a7f8c044fce0a2.setContent%28html_840a575ea1284c268a61270b78b283cf%29%3B%0A%20%20%20%20%20%20%20%20%20%20%20%20%0A%0A%20%20%20%20%20%20%20%20%20%20%20%20circle_6b50f28483c6480688b580dbb9608369.bindPopup%28popup_596f3da17222497099a7f8c044fce0a2%29%0A%20%20%20%20%20%20%20%20%20%20%20%20%3B%0A%0A%20%20%20%20%20%20%20%20%20%20%20%20%0A%20%20%20%20%20%20%20%20%0A%20%20%20%20%0A%0A%20%20%20%20%20%20%20%20%20%20%20%20var%20circle_aaae647d09e24085a7af525c79748dad%20%3D%20L.circle%28%0A%20%20%20%20%20%20%20%20%20%20%20%20%20%20%20%20%5B30.9293211%2C%2075.5004841%5D%2C%0A%20%20%20%20%20%20%20%20%20%20%20%20%20%20%20%20%7B%0A%20%20%22bubblingMouseEvents%22%3A%20true%2C%0A%20%20%22color%22%3A%20%22black%22%2C%0A%20%20%22dashArray%22%3A%20null%2C%0A%20%20%22dashOffset%22%3A%20null%2C%0A%20%20%22fill%22%3A%20true%2C%0A%20%20%22fillColor%22%3A%20%22black%22%2C%0A%20%20%22fillOpacity%22%3A%200.2%2C%0A%20%20%22fillRule%22%3A%20%22evenodd%22%2C%0A%20%20%22lineCap%22%3A%20%22round%22%2C%0A%20%20%22lineJoin%22%3A%20%22round%22%2C%0A%20%20%22opacity%22%3A%201.0%2C%0A%20%20%22radius%22%3A%2057823.333333333336%2C%0A%20%20%22stroke%22%3A%20true%2C%0A%20%20%22weight%22%3A%203%0A%7D%0A%20%20%20%20%20%20%20%20%20%20%20%20%20%20%20%20%29%0A%20%20%20%20%20%20%20%20%20%20%20%20%20%20%20%20.addTo%28map_ac851d495ec544b1b9b66e6660509479%29%3B%0A%20%20%20%20%20%20%20%20%20%20%20%20%0A%20%20%20%20%0A%20%20%20%20%20%20%20%20%20%20%20%20var%20popup_633b7a4670004909a75a7223af8a01ca%20%3D%20L.popup%28%7BmaxWidth%3A%20%27100%25%27%0A%20%20%20%20%20%20%20%20%20%20%20%20%0A%20%20%20%20%20%20%20%20%20%20%20%20%7D%29%3B%0A%0A%20%20%20%20%20%20%20%20%20%20%20%20%0A%20%20%20%20%20%20%20%20%20%20%20%20%20%20%20%20var%20html_1dc8eea945ab44139d50b2fec240ca6d%20%3D%20%24%28%60%3Cdiv%20id%3D%22html_1dc8eea945ab44139d50b2fec240ca6d%22%20style%3D%22width%3A%20100.0%25%3B%20height%3A%20100.0%25%3B%22%3EPunjab%20%20173470%20%20on%2001/02/2021%2022%3A49%3A08%3C/div%3E%60%29%5B0%5D%3B%0A%20%20%20%20%20%20%20%20%20%20%20%20%20%20%20%20popup_633b7a4670004909a75a7223af8a01ca.setContent%28html_1dc8eea945ab44139d50b2fec240ca6d%29%3B%0A%20%20%20%20%20%20%20%20%20%20%20%20%0A%0A%20%20%20%20%20%20%20%20%20%20%20%20circle_aaae647d09e24085a7af525c79748dad.bindPopup%28popup_633b7a4670004909a75a7223af8a01ca%29%0A%20%20%20%20%20%20%20%20%20%20%20%20%3B%0A%0A%20%20%20%20%20%20%20%20%20%20%20%20%0A%20%20%20%20%20%20%20%20%0A%20%20%20%20%0A%0A%20%20%20%20%20%20%20%20%20%20%20%20var%20circle_759e76c232b4418991a78397f61c43dd%20%3D%20L.circle%28%0A%20%20%20%20%20%20%20%20%20%20%20%20%20%20%20%20%5B33.5574473%2C%2075.06152%5D%2C%0A%20%20%20%20%20%20%20%20%20%20%20%20%20%20%20%20%7B%0A%20%20%22bubblingMouseEvents%22%3A%20true%2C%0A%20%20%22color%22%3A%20%22black%22%2C%0A%20%20%22dashArray%22%3A%20null%2C%0A%20%20%22dashOffset%22%3A%20null%2C%0A%20%20%22fill%22%3A%20true%2C%0A%20%20%22fillColor%22%3A%20%22black%22%2C%0A%20%20%22fillOpacity%22%3A%200.2%2C%0A%20%20%22fillRule%22%3A%20%22evenodd%22%2C%0A%20%20%22lineCap%22%3A%20%22round%22%2C%0A%20%20%22lineJoin%22%3A%20%22round%22%2C%0A%20%20%22opacity%22%3A%201.0%2C%0A%20%20%22radius%22%3A%2041516.666666666664%2C%0A%20%20%22stroke%22%3A%20true%2C%0A%20%20%22weight%22%3A%203%0A%7D%0A%20%20%20%20%20%20%20%20%20%20%20%20%20%20%20%20%29%0A%20%20%20%20%20%20%20%20%20%20%20%20%20%20%20%20.addTo%28map_ac851d495ec544b1b9b66e6660509479%29%3B%0A%20%20%20%20%20%20%20%20%20%20%20%20%0A%20%20%20%20%0A%20%20%20%20%20%20%20%20%20%20%20%20var%20popup_e99a483f9a874b80819e0e979523701b%20%3D%20L.popup%28%7BmaxWidth%3A%20%27100%25%27%0A%20%20%20%20%20%20%20%20%20%20%20%20%0A%20%20%20%20%20%20%20%20%20%20%20%20%7D%29%3B%0A%0A%20%20%20%20%20%20%20%20%20%20%20%20%0A%20%20%20%20%20%20%20%20%20%20%20%20%20%20%20%20var%20html_bb983191d3be44b7af00899a29b6a136%20%3D%20%24%28%60%3Cdiv%20id%3D%22html_bb983191d3be44b7af00899a29b6a136%22%20style%3D%22width%3A%20100.0%25%3B%20height%3A%20100.0%25%3B%22%3EJammu%20and%20Kashmir%20%20124550%20%20on%2001/02/2021%2020%3A46%3A14%3C/div%3E%60%29%5B0%5D%3B%0A%20%20%20%20%20%20%20%20%20%20%20%20%20%20%20%20popup_e99a483f9a874b80819e0e979523701b.setContent%28html_bb983191d3be44b7af00899a29b6a136%29%3B%0A%20%20%20%20%20%20%20%20%20%20%20%20%0A%0A%20%20%20%20%20%20%20%20%20%20%20%20circle_759e76c232b4418991a78397f61c43dd.bindPopup%28popup_e99a483f9a874b80819e0e979523701b%29%0A%20%20%20%20%20%20%20%20%20%20%20%20%3B%0A%0A%20%20%20%20%20%20%20%20%20%20%20%20%0A%20%20%20%20%20%20%20%20%0A%20%20%20%20%0A%0A%20%20%20%20%20%20%20%20%20%20%20%20var%20circle_dc79af6c7a6f4327b1aa4792c453c894%20%3D%20L.circle%28%0A%20%20%20%20%20%20%20%20%20%20%20%20%20%20%20%20%5B23.4559809%2C%2085.2557301%5D%2C%0A%20%20%20%20%20%20%20%20%20%20%20%20%20%20%20%20%7B%0A%20%20%22bubblingMouseEvents%22%3A%20true%2C%0A%20%20%22color%22%3A%20%22black%22%2C%0A%20%20%22dashArray%22%3A%20null%2C%0A%20%20%22dashOffset%22%3A%20null%2C%0A%20%20%22fill%22%3A%20true%2C%0A%20%20%22fillColor%22%3A%20%22black%22%2C%0A%20%20%22fillOpacity%22%3A%200.2%2C%0A%20%20%22fillRule%22%3A%20%22evenodd%22%2C%0A%20%20%22lineCap%22%3A%20%22round%22%2C%0A%20%20%22lineJoin%22%3A%20%22round%22%2C%0A%20%20%22opacity%22%3A%201.0%2C%0A%20%20%22radius%22%3A%2039578.0%2C%0A%20%20%22stroke%22%3A%20true%2C%0A%20%20%22weight%22%3A%203%0A%7D%0A%20%20%20%20%20%20%20%20%20%20%20%20%20%20%20%20%29%0A%20%20%20%20%20%20%20%20%20%20%20%20%20%20%20%20.addTo%28map_ac851d495ec544b1b9b66e6660509479%29%3B%0A%20%20%20%20%20%20%20%20%20%20%20%20%0A%20%20%20%20%0A%20%20%20%20%20%20%20%20%20%20%20%20var%20popup_4b2c2443e2c04617a048d6eee34d7aaa%20%3D%20L.popup%28%7BmaxWidth%3A%20%27100%25%27%0A%20%20%20%20%20%20%20%20%20%20%20%20%0A%20%20%20%20%20%20%20%20%20%20%20%20%7D%29%3B%0A%0A%20%20%20%20%20%20%20%20%20%20%20%20%0A%20%20%20%20%20%20%20%20%20%20%20%20%20%20%20%20var%20html_11a823ea57a34de88801f60d0175e7c7%20%3D%20%24%28%60%3Cdiv%20id%3D%22html_11a823ea57a34de88801f60d0175e7c7%22%20style%3D%22width%3A%20100.0%25%3B%20height%3A%20100.0%25%3B%22%3EJharkhand%20%20118734%20%20on%2001/02/2021%2023%3A43%3A03%3C/div%3E%60%29%5B0%5D%3B%0A%20%20%20%20%20%20%20%20%20%20%20%20%20%20%20%20popup_4b2c2443e2c04617a048d6eee34d7aaa.setContent%28html_11a823ea57a34de88801f60d0175e7c7%29%3B%0A%20%20%20%20%20%20%20%20%20%20%20%20%0A%0A%20%20%20%20%20%20%20%20%20%20%20%20circle_dc79af6c7a6f4327b1aa4792c453c894.bindPopup%28popup_4b2c2443e2c04617a048d6eee34d7aaa%29%0A%20%20%20%20%20%20%20%20%20%20%20%20%3B%0A%0A%20%20%20%20%20%20%20%20%20%20%20%20%0A%20%20%20%20%20%20%20%20%0A%20%20%20%20%0A%0A%20%20%20%20%20%20%20%20%20%20%20%20var%20circle_5604c9c854074c029024555b27b18f91%20%3D%20L.circle%28%0A%20%20%20%20%20%20%20%20%20%20%20%20%20%20%20%20%5B30.0417376%2C%2079.089691%5D%2C%0A%20%20%20%20%20%20%20%20%20%20%20%20%20%20%20%20%7B%0A%20%20%22bubblingMouseEvents%22%3A%20true%2C%0A%20%20%22color%22%3A%20%22black%22%2C%0A%20%20%22dashArray%22%3A%20null%2C%0A%20%20%22dashOffset%22%3A%20null%2C%0A%20%20%22fill%22%3A%20true%2C%0A%20%20%22fillColor%22%3A%20%22black%22%2C%0A%20%20%22fillOpacity%22%3A%200.2%2C%0A%20%20%22fillRule%22%3A%20%22evenodd%22%2C%0A%20%20%22lineCap%22%3A%20%22round%22%2C%0A%20%20%22lineJoin%22%3A%20%22round%22%2C%0A%20%20%22opacity%22%3A%201.0%2C%0A%20%20%22radius%22%3A%2032060.0%2C%0A%20%20%22stroke%22%3A%20true%2C%0A%20%20%22weight%22%3A%203%0A%7D%0A%20%20%20%20%20%20%20%20%20%20%20%20%20%20%20%20%29%0A%20%20%20%20%20%20%20%20%20%20%20%20%20%20%20%20.addTo%28map_ac851d495ec544b1b9b66e6660509479%29%3B%0A%20%20%20%20%20%20%20%20%20%20%20%20%0A%20%20%20%20%0A%20%20%20%20%20%20%20%20%20%20%20%20var%20popup_7eaac563523043d3a6bda9e95a235636%20%3D%20L.popup%28%7BmaxWidth%3A%20%27100%25%27%0A%20%20%20%20%20%20%20%20%20%20%20%20%0A%20%20%20%20%20%20%20%20%20%20%20%20%7D%29%3B%0A%0A%20%20%20%20%20%20%20%20%20%20%20%20%0A%20%20%20%20%20%20%20%20%20%20%20%20%20%20%20%20var%20html_65f29469da1a4f9797f9ef2df5189a80%20%3D%20%24%28%60%3Cdiv%20id%3D%22html_65f29469da1a4f9797f9ef2df5189a80%22%20style%3D%22width%3A%20100.0%25%3B%20height%3A%20100.0%25%3B%22%3EUttarakhand%20%2096180%20%20on%2001/02/2021%2021%3A52%3A12%3C/div%3E%60%29%5B0%5D%3B%0A%20%20%20%20%20%20%20%20%20%20%20%20%20%20%20%20popup_7eaac563523043d3a6bda9e95a235636.setContent%28html_65f29469da1a4f9797f9ef2df5189a80%29%3B%0A%20%20%20%20%20%20%20%20%20%20%20%20%0A%0A%20%20%20%20%20%20%20%20%20%20%20%20circle_5604c9c854074c029024555b27b18f91.bindPopup%28popup_7eaac563523043d3a6bda9e95a235636%29%0A%20%20%20%20%20%20%20%20%20%20%20%20%3B%0A%0A%20%20%20%20%20%20%20%20%20%20%20%20%0A%20%20%20%20%20%20%20%20%0A%20%20%20%20%0A%0A%20%20%20%20%20%20%20%20%20%20%20%20var%20circle_061a1537f53046ffbe2f3278e8d1bd5d%20%3D%20L.circle%28%0A%20%20%20%20%20%20%20%20%20%20%20%20%20%20%20%20%5B31.81676015%2C%2077.34932051968858%5D%2C%0A%20%20%20%20%20%20%20%20%20%20%20%20%20%20%20%20%7B%0A%20%20%22bubblingMouseEvents%22%3A%20true%2C%0A%20%20%22color%22%3A%20%22black%22%2C%0A%20%20%22dashArray%22%3A%20null%2C%0A%20%20%22dashOffset%22%3A%20null%2C%0A%20%20%22fill%22%3A%20true%2C%0A%20%20%22fillColor%22%3A%20%22black%22%2C%0A%20%20%22fillOpacity%22%3A%200.2%2C%0A%20%20%22fillRule%22%3A%20%22evenodd%22%2C%0A%20%20%22lineCap%22%3A%20%22round%22%2C%0A%20%20%22lineJoin%22%3A%20%22round%22%2C%0A%20%20%22opacity%22%3A%201.0%2C%0A%20%20%22radius%22%3A%2019187.0%2C%0A%20%20%22stroke%22%3A%20true%2C%0A%20%20%22weight%22%3A%203%0A%7D%0A%20%20%20%20%20%20%20%20%20%20%20%20%20%20%20%20%29%0A%20%20%20%20%20%20%20%20%20%20%20%20%20%20%20%20.addTo%28map_ac851d495ec544b1b9b66e6660509479%29%3B%0A%20%20%20%20%20%20%20%20%20%20%20%20%0A%20%20%20%20%0A%20%20%20%20%20%20%20%20%20%20%20%20var%20popup_f3854ab5a479499682c9be11a0697ef0%20%3D%20L.popup%28%7BmaxWidth%3A%20%27100%25%27%0A%20%20%20%20%20%20%20%20%20%20%20%20%0A%20%20%20%20%20%20%20%20%20%20%20%20%7D%29%3B%0A%0A%20%20%20%20%20%20%20%20%20%20%20%20%0A%20%20%20%20%20%20%20%20%20%20%20%20%20%20%20%20var%20html_a99b84a5912b4be8b8df5df59e2a700c%20%3D%20%24%28%60%3Cdiv%20id%3D%22html_a99b84a5912b4be8b8df5df59e2a700c%22%20style%3D%22width%3A%20100.0%25%3B%20height%3A%20100.0%25%3B%22%3EHimachal%20Pradesh%20%2057561%20%20on%2001/02/2021%2022%3A49%3A11%3C/div%3E%60%29%5B0%5D%3B%0A%20%20%20%20%20%20%20%20%20%20%20%20%20%20%20%20popup_f3854ab5a479499682c9be11a0697ef0.setContent%28html_a99b84a5912b4be8b8df5df59e2a700c%29%3B%0A%20%20%20%20%20%20%20%20%20%20%20%20%0A%0A%20%20%20%20%20%20%20%20%20%20%20%20circle_061a1537f53046ffbe2f3278e8d1bd5d.bindPopup%28popup_f3854ab5a479499682c9be11a0697ef0%29%0A%20%20%20%20%20%20%20%20%20%20%20%20%3B%0A%0A%20%20%20%20%20%20%20%20%20%20%20%20%0A%20%20%20%20%20%20%20%20%0A%20%20%20%20%0A%0A%20%20%20%20%20%20%20%20%20%20%20%20var%20circle_4729a38c598c4198968e468fd540ade7%20%3D%20L.circle%28%0A%20%20%20%20%20%20%20%20%20%20%20%20%20%20%20%20%5B15.3004543%2C%2074.0855134%5D%2C%0A%20%20%20%20%20%20%20%20%20%20%20%20%20%20%20%20%7B%0A%20%20%22bubblingMouseEvents%22%3A%20true%2C%0A%20%20%22color%22%3A%20%22black%22%2C%0A%20%20%22dashArray%22%3A%20null%2C%0A%20%20%22dashOffset%22%3A%20null%2C%0A%20%20%22fill%22%3A%20true%2C%0A%20%20%22fillColor%22%3A%20%22black%22%2C%0A%20%20%22fillOpacity%22%3A%200.2%2C%0A%20%20%22fillRule%22%3A%20%22evenodd%22%2C%0A%20%20%22lineCap%22%3A%20%22round%22%2C%0A%20%20%22lineJoin%22%3A%20%22round%22%2C%0A%20%20%22opacity%22%3A%201.0%2C%0A%20%20%22radius%22%3A%2017823.0%2C%0A%20%20%22stroke%22%3A%20true%2C%0A%20%20%22weight%22%3A%203%0A%7D%0A%20%20%20%20%20%20%20%20%20%20%20%20%20%20%20%20%29%0A%20%20%20%20%20%20%20%20%20%20%20%20%20%20%20%20.addTo%28map_ac851d495ec544b1b9b66e6660509479%29%3B%0A%20%20%20%20%20%20%20%20%20%20%20%20%0A%20%20%20%20%0A%20%20%20%20%20%20%20%20%20%20%20%20var%20popup_96ed7930b7c64872a278a5d9c642be46%20%3D%20L.popup%28%7BmaxWidth%3A%20%27100%25%27%0A%20%20%20%20%20%20%20%20%20%20%20%20%0A%20%20%20%20%20%20%20%20%20%20%20%20%7D%29%3B%0A%0A%20%20%20%20%20%20%20%20%20%20%20%20%0A%20%20%20%20%20%20%20%20%20%20%20%20%20%20%20%20var%20html_dbe379b5b1304abfa1d1c27ccfaad251%20%3D%20%24%28%60%3Cdiv%20id%3D%22html_dbe379b5b1304abfa1d1c27ccfaad251%22%20style%3D%22width%3A%20100.0%25%3B%20height%3A%20100.0%25%3B%22%3EGoa%20%2053469%20%20on%2001/02/2021%2020%3A46%3A19%3C/div%3E%60%29%5B0%5D%3B%0A%20%20%20%20%20%20%20%20%20%20%20%20%20%20%20%20popup_96ed7930b7c64872a278a5d9c642be46.setContent%28html_dbe379b5b1304abfa1d1c27ccfaad251%29%3B%0A%20%20%20%20%20%20%20%20%20%20%20%20%0A%0A%20%20%20%20%20%20%20%20%20%20%20%20circle_4729a38c598c4198968e468fd540ade7.bindPopup%28popup_96ed7930b7c64872a278a5d9c642be46%29%0A%20%20%20%20%20%20%20%20%20%20%20%20%3B%0A%0A%20%20%20%20%20%20%20%20%20%20%20%20%0A%20%20%20%20%20%20%20%20%0A%20%20%20%20%0A%0A%20%20%20%20%20%20%20%20%20%20%20%20var%20circle_2490964af48c44b6a06157b513f344c3%20%3D%20L.circle%28%0A%20%20%20%20%20%20%20%20%20%20%20%20%20%20%20%20%5B10.91564885%2C%2079.80694879844232%5D%2C%0A%20%20%20%20%20%20%20%20%20%20%20%20%20%20%20%20%7B%0A%20%20%22bubblingMouseEvents%22%3A%20true%2C%0A%20%20%22color%22%3A%20%22black%22%2C%0A%20%20%22dashArray%22%3A%20null%2C%0A%20%20%22dashOffset%22%3A%20null%2C%0A%20%20%22fill%22%3A%20true%2C%0A%20%20%22fillColor%22%3A%20%22black%22%2C%0A%20%20%22fillOpacity%22%3A%200.2%2C%0A%20%20%22fillRule%22%3A%20%22evenodd%22%2C%0A%20%20%22lineCap%22%3A%20%22round%22%2C%0A%20%20%22lineJoin%22%3A%20%22round%22%2C%0A%20%20%22opacity%22%3A%201.0%2C%0A%20%20%22radius%22%3A%2013032.0%2C%0A%20%20%22stroke%22%3A%20true%2C%0A%20%20%22weight%22%3A%203%0A%7D%0A%20%20%20%20%20%20%20%20%20%20%20%20%20%20%20%20%29%0A%20%20%20%20%20%20%20%20%20%20%20%20%20%20%20%20.addTo%28map_ac851d495ec544b1b9b66e6660509479%29%3B%0A%20%20%20%20%20%20%20%20%20%20%20%20%0A%20%20%20%20%0A%20%20%20%20%20%20%20%20%20%20%20%20var%20popup_3f2987cde7054f0b8b4c500880162f55%20%3D%20L.popup%28%7BmaxWidth%3A%20%27100%25%27%0A%20%20%20%20%20%20%20%20%20%20%20%20%0A%20%20%20%20%20%20%20%20%20%20%20%20%7D%29%3B%0A%0A%20%20%20%20%20%20%20%20%20%20%20%20%0A%20%20%20%20%20%20%20%20%20%20%20%20%20%20%20%20var%20html_86a33fe173dd44488edfd27bc685ae98%20%3D%20%24%28%60%3Cdiv%20id%3D%22html_86a33fe173dd44488edfd27bc685ae98%22%20style%3D%22width%3A%20100.0%25%3B%20height%3A%20100.0%25%3B%22%3EPuducherry%20%2039096%20%20on%2031/01/2021%2020%3A29%3A58%3C/div%3E%60%29%5B0%5D%3B%0A%20%20%20%20%20%20%20%20%20%20%20%20%20%20%20%20popup_3f2987cde7054f0b8b4c500880162f55.setContent%28html_86a33fe173dd44488edfd27bc685ae98%29%3B%0A%20%20%20%20%20%20%20%20%20%20%20%20%0A%0A%20%20%20%20%20%20%20%20%20%20%20%20circle_2490964af48c44b6a06157b513f344c3.bindPopup%28popup_3f2987cde7054f0b8b4c500880162f55%29%0A%20%20%20%20%20%20%20%20%20%20%20%20%3B%0A%0A%20%20%20%20%20%20%20%20%20%20%20%20%0A%20%20%20%20%20%20%20%20%0A%20%20%20%20%0A%0A%20%20%20%20%20%20%20%20%20%20%20%20var%20circle_f4055bd6b1e941ba896219ce5b0ad8b3%20%3D%20L.circle%28%0A%20%20%20%20%20%20%20%20%20%20%20%20%20%20%20%20%5B23.7750823%2C%2091.7025091%5D%2C%0A%20%20%20%20%20%20%20%20%20%20%20%20%20%20%20%20%7B%0A%20%20%22bubblingMouseEvents%22%3A%20true%2C%0A%20%20%22color%22%3A%20%22black%22%2C%0A%20%20%22dashArray%22%3A%20null%2C%0A%20%20%22dashOffset%22%3A%20null%2C%0A%20%20%22fill%22%3A%20true%2C%0A%20%20%22fillColor%22%3A%20%22black%22%2C%0A%20%20%22fillOpacity%22%3A%200.2%2C%0A%20%20%22fillRule%22%3A%20%22evenodd%22%2C%0A%20%20%22lineCap%22%3A%20%22round%22%2C%0A%20%20%22lineJoin%22%3A%20%22round%22%2C%0A%20%20%22opacity%22%3A%201.0%2C%0A%20%20%22radius%22%3A%2011116.0%2C%0A%20%20%22stroke%22%3A%20true%2C%0A%20%20%22weight%22%3A%203%0A%7D%0A%20%20%20%20%20%20%20%20%20%20%20%20%20%20%20%20%29%0A%20%20%20%20%20%20%20%20%20%20%20%20%20%20%20%20.addTo%28map_ac851d495ec544b1b9b66e6660509479%29%3B%0A%20%20%20%20%20%20%20%20%20%20%20%20%0A%20%20%20%20%0A%20%20%20%20%20%20%20%20%20%20%20%20var%20popup_94f1d2dcb56a4a119716336b21f415a5%20%3D%20L.popup%28%7BmaxWidth%3A%20%27100%25%27%0A%20%20%20%20%20%20%20%20%20%20%20%20%0A%20%20%20%20%20%20%20%20%20%20%20%20%7D%29%3B%0A%0A%20%20%20%20%20%20%20%20%20%20%20%20%0A%20%20%20%20%20%20%20%20%20%20%20%20%20%20%20%20var%20html_674fccef640c4b6097d13e4d84ae9829%20%3D%20%24%28%60%3Cdiv%20id%3D%22html_674fccef640c4b6097d13e4d84ae9829%22%20style%3D%22width%3A%20100.0%25%3B%20height%3A%20100.0%25%3B%22%3ETripura%20%2033348%20%20on%2001/02/2021%2019%3A36%3A09%3C/div%3E%60%29%5B0%5D%3B%0A%20%20%20%20%20%20%20%20%20%20%20%20%20%20%20%20popup_94f1d2dcb56a4a119716336b21f415a5.setContent%28html_674fccef640c4b6097d13e4d84ae9829%29%3B%0A%20%20%20%20%20%20%20%20%20%20%20%20%0A%0A%20%20%20%20%20%20%20%20%20%20%20%20circle_f4055bd6b1e941ba896219ce5b0ad8b3.bindPopup%28popup_94f1d2dcb56a4a119716336b21f415a5%29%0A%20%20%20%20%20%20%20%20%20%20%20%20%3B%0A%0A%20%20%20%20%20%20%20%20%20%20%20%20%0A%20%20%20%20%20%20%20%20%0A%20%20%20%20%0A%0A%20%20%20%20%20%20%20%20%20%20%20%20var%20circle_aef612f03e2648c098cdcbf1bb85e34d%20%3D%20L.circle%28%0A%20%20%20%20%20%20%20%20%20%20%20%20%20%20%20%20%5B24.7208818%2C%2093.9229386%5D%2C%0A%20%20%20%20%20%20%20%20%20%20%20%20%20%20%20%20%7B%0A%20%20%22bubblingMouseEvents%22%3A%20true%2C%0A%20%20%22color%22%3A%20%22black%22%2C%0A%20%20%22dashArray%22%3A%20null%2C%0A%20%20%22dashOffset%22%3A%20null%2C%0A%20%20%22fill%22%3A%20true%2C%0A%20%20%22fillColor%22%3A%20%22black%22%2C%0A%20%20%22fillOpacity%22%3A%200.2%2C%0A%20%20%22fillRule%22%3A%20%22evenodd%22%2C%0A%20%20%22lineCap%22%3A%20%22round%22%2C%0A%20%20%22lineJoin%22%3A%20%22round%22%2C%0A%20%20%22opacity%22%3A%201.0%2C%0A%20%20%22radius%22%3A%209690.666666666666%2C%0A%20%20%22stroke%22%3A%20true%2C%0A%20%20%22weight%22%3A%203%0A%7D%0A%20%20%20%20%20%20%20%20%20%20%20%20%20%20%20%20%29%0A%20%20%20%20%20%20%20%20%20%20%20%20%20%20%20%20.addTo%28map_ac851d495ec544b1b9b66e6660509479%29%3B%0A%20%20%20%20%20%20%20%20%20%20%20%20%0A%20%20%20%20%0A%20%20%20%20%20%20%20%20%20%20%20%20var%20popup_ec414923e763449c8fdc6746718e3569%20%3D%20L.popup%28%7BmaxWidth%3A%20%27100%25%27%0A%20%20%20%20%20%20%20%20%20%20%20%20%0A%20%20%20%20%20%20%20%20%20%20%20%20%7D%29%3B%0A%0A%20%20%20%20%20%20%20%20%20%20%20%20%0A%20%20%20%20%20%20%20%20%20%20%20%20%20%20%20%20var%20html_9e33608c57004a2aa422d87045d5cd1a%20%3D%20%24%28%60%3Cdiv%20id%3D%22html_9e33608c57004a2aa422d87045d5cd1a%22%20style%3D%22width%3A%20100.0%25%3B%20height%3A%20100.0%25%3B%22%3EManipur%20%2029072%20%20on%2001/02/2021%2022%3A49%3A13%3C/div%3E%60%29%5B0%5D%3B%0A%20%20%20%20%20%20%20%20%20%20%20%20%20%20%20%20popup_ec414923e763449c8fdc6746718e3569.setContent%28html_9e33608c57004a2aa422d87045d5cd1a%29%3B%0A%20%20%20%20%20%20%20%20%20%20%20%20%0A%0A%20%20%20%20%20%20%20%20%20%20%20%20circle_aef612f03e2648c098cdcbf1bb85e34d.bindPopup%28popup_ec414923e763449c8fdc6746718e3569%29%0A%20%20%20%20%20%20%20%20%20%20%20%20%3B%0A%0A%20%20%20%20%20%20%20%20%20%20%20%20%0A%20%20%20%20%20%20%20%20%0A%20%20%20%20%0A%0A%20%20%20%20%20%20%20%20%20%20%20%20var%20circle_d31a88e4786d4111a1340ecbf23b98d7%20%3D%20L.circle%28%0A%20%20%20%20%20%20%20%20%20%20%20%20%20%20%20%20%5B30.7334421%2C%2076.7797143%5D%2C%0A%20%20%20%20%20%20%20%20%20%20%20%20%20%20%20%20%7B%0A%20%20%22bubblingMouseEvents%22%3A%20true%2C%0A%20%20%22color%22%3A%20%22black%22%2C%0A%20%20%22dashArray%22%3A%20null%2C%0A%20%20%22dashOffset%22%3A%20null%2C%0A%20%20%22fill%22%3A%20true%2C%0A%20%20%22fillColor%22%3A%20%22black%22%2C%0A%20%20%22fillOpacity%22%3A%200.2%2C%0A%20%20%22fillRule%22%3A%20%22evenodd%22%2C%0A%20%20%22lineCap%22%3A%20%22round%22%2C%0A%20%20%22lineJoin%22%3A%20%22round%22%2C%0A%20%20%22opacity%22%3A%201.0%2C%0A%20%20%22radius%22%3A%206985.666666666667%2C%0A%20%20%22stroke%22%3A%20true%2C%0A%20%20%22weight%22%3A%203%0A%7D%0A%20%20%20%20%20%20%20%20%20%20%20%20%20%20%20%20%29%0A%20%20%20%20%20%20%20%20%20%20%20%20%20%20%20%20.addTo%28map_ac851d495ec544b1b9b66e6660509479%29%3B%0A%20%20%20%20%20%20%20%20%20%20%20%20%0A%20%20%20%20%0A%20%20%20%20%20%20%20%20%20%20%20%20var%20popup_5608311cc82e482db44cf8aff599a3c8%20%3D%20L.popup%28%7BmaxWidth%3A%20%27100%25%27%0A%20%20%20%20%20%20%20%20%20%20%20%20%0A%20%20%20%20%20%20%20%20%20%20%20%20%7D%29%3B%0A%0A%20%20%20%20%20%20%20%20%20%20%20%20%0A%20%20%20%20%20%20%20%20%20%20%20%20%20%20%20%20var%20html_c409666f07284666b7d9bc60bb39d8f1%20%3D%20%24%28%60%3Cdiv%20id%3D%22html_c409666f07284666b7d9bc60bb39d8f1%22%20style%3D%22width%3A%20100.0%25%3B%20height%3A%20100.0%25%3B%22%3EChandigarh%20%2020957%20%20on%2001/02/2021%2021%3A07%3A16%3C/div%3E%60%29%5B0%5D%3B%0A%20%20%20%20%20%20%20%20%20%20%20%20%20%20%20%20popup_5608311cc82e482db44cf8aff599a3c8.setContent%28html_c409666f07284666b7d9bc60bb39d8f1%29%3B%0A%20%20%20%20%20%20%20%20%20%20%20%20%0A%0A%20%20%20%20%20%20%20%20%20%20%20%20circle_d31a88e4786d4111a1340ecbf23b98d7.bindPopup%28popup_5608311cc82e482db44cf8aff599a3c8%29%0A%20%20%20%20%20%20%20%20%20%20%20%20%3B%0A%0A%20%20%20%20%20%20%20%20%20%20%20%20%0A%20%20%20%20%20%20%20%20%0A%20%20%20%20%0A%0A%20%20%20%20%20%20%20%20%20%20%20%20var%20circle_731b354a76d646b780bce5000f3ea778%20%3D%20L.circle%28%0A%20%20%20%20%20%20%20%20%20%20%20%20%20%20%20%20%5B28.0937702%2C%2094.5921326%5D%2C%0A%20%20%20%20%20%20%20%20%20%20%20%20%20%20%20%20%7B%0A%20%20%22bubblingMouseEvents%22%3A%20true%2C%0A%20%20%22color%22%3A%20%22black%22%2C%0A%20%20%22dashArray%22%3A%20null%2C%0A%20%20%22dashOffset%22%3A%20null%2C%0A%20%20%22fill%22%3A%20true%2C%0A%20%20%22fillColor%22%3A%20%22black%22%2C%0A%20%20%22fillOpacity%22%3A%200.2%2C%0A%20%20%22fillRule%22%3A%20%22evenodd%22%2C%0A%20%20%22lineCap%22%3A%20%22round%22%2C%0A%20%20%22lineJoin%22%3A%20%22round%22%2C%0A%20%20%22opacity%22%3A%201.0%2C%0A%20%20%22radius%22%3A%205609.333333333333%2C%0A%20%20%22stroke%22%3A%20true%2C%0A%20%20%22weight%22%3A%203%0A%7D%0A%20%20%20%20%20%20%20%20%20%20%20%20%20%20%20%20%29%0A%20%20%20%20%20%20%20%20%20%20%20%20%20%20%20%20.addTo%28map_ac851d495ec544b1b9b66e6660509479%29%3B%0A%20%20%20%20%20%20%20%20%20%20%20%20%0A%20%20%20%20%0A%20%20%20%20%20%20%20%20%20%20%20%20var%20popup_0381dd4de99a4290acf3b3b8446ecf42%20%3D%20L.popup%28%7BmaxWidth%3A%20%27100%25%27%0A%20%20%20%20%20%20%20%20%20%20%20%20%0A%20%20%20%20%20%20%20%20%20%20%20%20%7D%29%3B%0A%0A%20%20%20%20%20%20%20%20%20%20%20%20%0A%20%20%20%20%20%20%20%20%20%20%20%20%20%20%20%20var%20html_0bb7b44691be4171ac18189c93c0bdf8%20%3D%20%24%28%60%3Cdiv%20id%3D%22html_0bb7b44691be4171ac18189c93c0bdf8%22%20style%3D%22width%3A%20100.0%25%3B%20height%3A%20100.0%25%3B%22%3EArunachal%20Pradesh%20%2016828%20%20on%2001/02/2021%2023%3A43%3A06%3C/div%3E%60%29%5B0%5D%3B%0A%20%20%20%20%20%20%20%20%20%20%20%20%20%20%20%20popup_0381dd4de99a4290acf3b3b8446ecf42.setContent%28html_0bb7b44691be4171ac18189c93c0bdf8%29%3B%0A%20%20%20%20%20%20%20%20%20%20%20%20%0A%0A%20%20%20%20%20%20%20%20%20%20%20%20circle_731b354a76d646b780bce5000f3ea778.bindPopup%28popup_0381dd4de99a4290acf3b3b8446ecf42%29%0A%20%20%20%20%20%20%20%20%20%20%20%20%3B%0A%0A%20%20%20%20%20%20%20%20%20%20%20%20%0A%20%20%20%20%20%20%20%20%0A%20%20%20%20%0A%0A%20%20%20%20%20%20%20%20%20%20%20%20var%20circle_294aaa00ab654005b3b882696eb66e37%20%3D%20L.circle%28%0A%20%20%20%20%20%20%20%20%20%20%20%20%20%20%20%20%5B25.5379432%2C%2091.2999102%5D%2C%0A%20%20%20%20%20%20%20%20%20%20%20%20%20%20%20%20%7B%0A%20%20%22bubblingMouseEvents%22%3A%20true%2C%0A%20%20%22color%22%3A%20%22black%22%2C%0A%20%20%22dashArray%22%3A%20null%2C%0A%20%20%22dashOffset%22%3A%20null%2C%0A%20%20%22fill%22%3A%20true%2C%0A%20%20%22fillColor%22%3A%20%22black%22%2C%0A%20%20%22fillOpacity%22%3A%200.2%2C%0A%20%20%22fillRule%22%3A%20%22evenodd%22%2C%0A%20%20%22lineCap%22%3A%20%22round%22%2C%0A%20%20%22lineJoin%22%3A%20%22round%22%2C%0A%20%20%22opacity%22%3A%201.0%2C%0A%20%20%22radius%22%3A%204588.0%2C%0A%20%20%22stroke%22%3A%20true%2C%0A%20%20%22weight%22%3A%203%0A%7D%0A%20%20%20%20%20%20%20%20%20%20%20%20%20%20%20%20%29%0A%20%20%20%20%20%20%20%20%20%20%20%20%20%20%20%20.addTo%28map_ac851d495ec544b1b9b66e6660509479%29%3B%0A%20%20%20%20%20%20%20%20%20%20%20%20%0A%20%20%20%20%0A%20%20%20%20%20%20%20%20%20%20%20%20var%20popup_38db650ad5c443018159ba95cb7dfcea%20%3D%20L.popup%28%7BmaxWidth%3A%20%27100%25%27%0A%20%20%20%20%20%20%20%20%20%20%20%20%0A%20%20%20%20%20%20%20%20%20%20%20%20%7D%29%3B%0A%0A%20%20%20%20%20%20%20%20%20%20%20%20%0A%20%20%20%20%20%20%20%20%20%20%20%20%20%20%20%20var%20html_1632f0e4f09044f3af55be3e554f6563%20%3D%20%24%28%60%3Cdiv%20id%3D%22html_1632f0e4f09044f3af55be3e554f6563%22%20style%3D%22width%3A%20100.0%25%3B%20height%3A%20100.0%25%3B%22%3EMeghalaya%20%2013764%20%20on%2001/02/2021%2021%3A52%3A17%3C/div%3E%60%29%5B0%5D%3B%0A%20%20%20%20%20%20%20%20%20%20%20%20%20%20%20%20popup_38db650ad5c443018159ba95cb7dfcea.setContent%28html_1632f0e4f09044f3af55be3e554f6563%29%3B%0A%20%20%20%20%20%20%20%20%20%20%20%20%0A%0A%20%20%20%20%20%20%20%20%20%20%20%20circle_294aaa00ab654005b3b882696eb66e37.bindPopup%28popup_38db650ad5c443018159ba95cb7dfcea%29%0A%20%20%20%20%20%20%20%20%20%20%20%20%3B%0A%0A%20%20%20%20%20%20%20%20%20%20%20%20%0A%20%20%20%20%20%20%20%20%0A%20%20%20%20%0A%0A%20%20%20%20%20%20%20%20%20%20%20%20var%20circle_e0d55c1e2b8a486cb8e4a2419fd1bbff%20%3D%20L.circle%28%0A%20%20%20%20%20%20%20%20%20%20%20%20%20%20%20%20%5B26.1630556%2C%2094.5884911%5D%2C%0A%20%20%20%20%20%20%20%20%20%20%20%20%20%20%20%20%7B%0A%20%20%22bubblingMouseEvents%22%3A%20true%2C%0A%20%20%22color%22%3A%20%22black%22%2C%0A%20%20%22dashArray%22%3A%20null%2C%0A%20%20%22dashOffset%22%3A%20null%2C%0A%20%20%22fill%22%3A%20true%2C%0A%20%20%22fillColor%22%3A%20%22black%22%2C%0A%20%20%22fillOpacity%22%3A%200.2%2C%0A%20%20%22fillRule%22%3A%20%22evenodd%22%2C%0A%20%20%22lineCap%22%3A%20%22round%22%2C%0A%20%20%22lineJoin%22%3A%20%22round%22%2C%0A%20%20%22opacity%22%3A%201.0%2C%0A%20%20%22radius%22%3A%204033.0%2C%0A%20%20%22stroke%22%3A%20true%2C%0A%20%20%22weight%22%3A%203%0A%7D%0A%20%20%20%20%20%20%20%20%20%20%20%20%20%20%20%20%29%0A%20%20%20%20%20%20%20%20%20%20%20%20%20%20%20%20.addTo%28map_ac851d495ec544b1b9b66e6660509479%29%3B%0A%20%20%20%20%20%20%20%20%20%20%20%20%0A%20%20%20%20%0A%20%20%20%20%20%20%20%20%20%20%20%20var%20popup_b2db6877e52e4e56a4d9156b3a64dd00%20%3D%20L.popup%28%7BmaxWidth%3A%20%27100%25%27%0A%20%20%20%20%20%20%20%20%20%20%20%20%0A%20%20%20%20%20%20%20%20%20%20%20%20%7D%29%3B%0A%0A%20%20%20%20%20%20%20%20%20%20%20%20%0A%20%20%20%20%20%20%20%20%20%20%20%20%20%20%20%20var%20html_c37231dff0334c30abe38c72abd229e1%20%3D%20%24%28%60%3Cdiv%20id%3D%22html_c37231dff0334c30abe38c72abd229e1%22%20style%3D%22width%3A%20100.0%25%3B%20height%3A%20100.0%25%3B%22%3ENagaland%20%2012099%20%20on%2001/02/2021%2020%3A12%3A11%3C/div%3E%60%29%5B0%5D%3B%0A%20%20%20%20%20%20%20%20%20%20%20%20%20%20%20%20popup_b2db6877e52e4e56a4d9156b3a64dd00.setContent%28html_c37231dff0334c30abe38c72abd229e1%29%3B%0A%20%20%20%20%20%20%20%20%20%20%20%20%0A%0A%20%20%20%20%20%20%20%20%20%20%20%20circle_e0d55c1e2b8a486cb8e4a2419fd1bbff.bindPopup%28popup_b2db6877e52e4e56a4d9156b3a64dd00%29%0A%20%20%20%20%20%20%20%20%20%20%20%20%3B%0A%0A%20%20%20%20%20%20%20%20%20%20%20%20%0A%20%20%20%20%20%20%20%20%0A%20%20%20%20%0A%0A%20%20%20%20%20%20%20%20%20%20%20%20var%20circle_36e641048fd84504a84107641156e177%20%3D%20L.circle%28%0A%20%20%20%20%20%20%20%20%20%20%20%20%20%20%20%20%5B33.9456407%2C%2077.6568576%5D%2C%0A%20%20%20%20%20%20%20%20%20%20%20%20%20%20%20%20%7B%0A%20%20%22bubblingMouseEvents%22%3A%20true%2C%0A%20%20%22color%22%3A%20%22black%22%2C%0A%20%20%22dashArray%22%3A%20null%2C%0A%20%20%22dashOffset%22%3A%20null%2C%0A%20%20%22fill%22%3A%20true%2C%0A%20%20%22fillColor%22%3A%20%22black%22%2C%0A%20%20%22fillOpacity%22%3A%200.2%2C%0A%20%20%22fillRule%22%3A%20%22evenodd%22%2C%0A%20%20%22lineCap%22%3A%20%22round%22%2C%0A%20%20%22lineJoin%22%3A%20%22round%22%2C%0A%20%20%22opacity%22%3A%201.0%2C%0A%20%20%22radius%22%3A%203241.3333333333335%2C%0A%20%20%22stroke%22%3A%20true%2C%0A%20%20%22weight%22%3A%203%0A%7D%0A%20%20%20%20%20%20%20%20%20%20%20%20%20%20%20%20%29%0A%20%20%20%20%20%20%20%20%20%20%20%20%20%20%20%20.addTo%28map_ac851d495ec544b1b9b66e6660509479%29%3B%0A%20%20%20%20%20%20%20%20%20%20%20%20%0A%20%20%20%20%0A%20%20%20%20%20%20%20%20%20%20%20%20var%20popup_d65cbd56432e4d2a9eb7bf0b4b942624%20%3D%20L.popup%28%7BmaxWidth%3A%20%27100%25%27%0A%20%20%20%20%20%20%20%20%20%20%20%20%0A%20%20%20%20%20%20%20%20%20%20%20%20%7D%29%3B%0A%0A%20%20%20%20%20%20%20%20%20%20%20%20%0A%20%20%20%20%20%20%20%20%20%20%20%20%20%20%20%20var%20html_5d467f1d6f38442c9706d09ad173b017%20%3D%20%24%28%60%3Cdiv%20id%3D%22html_5d467f1d6f38442c9706d09ad173b017%22%20style%3D%22width%3A%20100.0%25%3B%20height%3A%20100.0%25%3B%22%3ELadakh%20%209724%20%20on%2002/02/2021%2000%3A45%3A01%3C/div%3E%60%29%5B0%5D%3B%0A%20%20%20%20%20%20%20%20%20%20%20%20%20%20%20%20popup_d65cbd56432e4d2a9eb7bf0b4b942624.setContent%28html_5d467f1d6f38442c9706d09ad173b017%29%3B%0A%20%20%20%20%20%20%20%20%20%20%20%20%0A%0A%20%20%20%20%20%20%20%20%20%20%20%20circle_36e641048fd84504a84107641156e177.bindPopup%28popup_d65cbd56432e4d2a9eb7bf0b4b942624%29%0A%20%20%20%20%20%20%20%20%20%20%20%20%3B%0A%0A%20%20%20%20%20%20%20%20%20%20%20%20%0A%20%20%20%20%20%20%20%20%0A%20%20%20%20%0A%0A%20%20%20%20%20%20%20%20%20%20%20%20var%20circle_93236e777b9845dfb634abd7798e8b70%20%3D%20L.circle%28%0A%20%20%20%20%20%20%20%20%20%20%20%20%20%20%20%20%5B27.601029%2C%2088.45413638680145%5D%2C%0A%20%20%20%20%20%20%20%20%20%20%20%20%20%20%20%20%7B%0A%20%20%22bubblingMouseEvents%22%3A%20true%2C%0A%20%20%22color%22%3A%20%22black%22%2C%0A%20%20%22dashArray%22%3A%20null%2C%0A%20%20%22dashOffset%22%3A%20null%2C%0A%20%20%22fill%22%3A%20true%2C%0A%20%20%22fillColor%22%3A%20%22black%22%2C%0A%20%20%22fillOpacity%22%3A%200.2%2C%0A%20%20%22fillRule%22%3A%20%22evenodd%22%2C%0A%20%20%22lineCap%22%3A%20%22round%22%2C%0A%20%20%22lineJoin%22%3A%20%22round%22%2C%0A%20%20%22opacity%22%3A%201.0%2C%0A%20%20%22radius%22%3A%202030.3333333333333%2C%0A%20%20%22stroke%22%3A%20true%2C%0A%20%20%22weight%22%3A%203%0A%7D%0A%20%20%20%20%20%20%20%20%20%20%20%20%20%20%20%20%29%0A%20%20%20%20%20%20%20%20%20%20%20%20%20%20%20%20.addTo%28map_ac851d495ec544b1b9b66e6660509479%29%3B%0A%20%20%20%20%20%20%20%20%20%20%20%20%0A%20%20%20%20%0A%20%20%20%20%20%20%20%20%20%20%20%20var%20popup_2bd89f9380d5498cb0fe9d818b5f924d%20%3D%20L.popup%28%7BmaxWidth%3A%20%27100%25%27%0A%20%20%20%20%20%20%20%20%20%20%20%20%0A%20%20%20%20%20%20%20%20%20%20%20%20%7D%29%3B%0A%0A%20%20%20%20%20%20%20%20%20%20%20%20%0A%20%20%20%20%20%20%20%20%20%20%20%20%20%20%20%20var%20html_f635ccccd5d7472c961d7caed6084da5%20%3D%20%24%28%60%3Cdiv%20id%3D%22html_f635ccccd5d7472c961d7caed6084da5%22%20style%3D%22width%3A%20100.0%25%3B%20height%3A%20100.0%25%3B%22%3ESikkim%20%206091%20%20on%2002/02/2021%2000%3A45%3A04%3C/div%3E%60%29%5B0%5D%3B%0A%20%20%20%20%20%20%20%20%20%20%20%20%20%20%20%20popup_2bd89f9380d5498cb0fe9d818b5f924d.setContent%28html_f635ccccd5d7472c961d7caed6084da5%29%3B%0A%20%20%20%20%20%20%20%20%20%20%20%20%0A%0A%20%20%20%20%20%20%20%20%20%20%20%20circle_93236e777b9845dfb634abd7798e8b70.bindPopup%28popup_2bd89f9380d5498cb0fe9d818b5f924d%29%0A%20%20%20%20%20%20%20%20%20%20%20%20%3B%0A%0A%20%20%20%20%20%20%20%20%20%20%20%20%0A%20%20%20%20%20%20%20%20%0A%20%20%20%20%0A%0A%20%20%20%20%20%20%20%20%20%20%20%20var%20circle_73ecede5a1584ec28db937199fbb68df%20%3D%20L.circle%28%0A%20%20%20%20%20%20%20%20%20%20%20%20%20%20%20%20%5B12.61123865%2C%2092.83165406414926%5D%2C%0A%20%20%20%20%20%20%20%20%20%20%20%20%20%20%20%20%7B%0A%20%20%22bubblingMouseEvents%22%3A%20true%2C%0A%20%20%22color%22%3A%20%22black%22%2C%0A%20%20%22dashArray%22%3A%20null%2C%0A%20%20%22dashOffset%22%3A%20null%2C%0A%20%20%22fill%22%3A%20true%2C%0A%20%20%22fillColor%22%3A%20%22black%22%2C%0A%20%20%22fillOpacity%22%3A%200.2%2C%0A%20%20%22fillRule%22%3A%20%22evenodd%22%2C%0A%20%20%22lineCap%22%3A%20%22round%22%2C%0A%20%20%22lineJoin%22%3A%20%22round%22%2C%0A%20%20%22opacity%22%3A%201.0%2C%0A%20%20%22radius%22%3A%201664.6666666666667%2C%0A%20%20%22stroke%22%3A%20true%2C%0A%20%20%22weight%22%3A%203%0A%7D%0A%20%20%20%20%20%20%20%20%20%20%20%20%20%20%20%20%29%0A%20%20%20%20%20%20%20%20%20%20%20%20%20%20%20%20.addTo%28map_ac851d495ec544b1b9b66e6660509479%29%3B%0A%20%20%20%20%20%20%20%20%20%20%20%20%0A%20%20%20%20%0A%20%20%20%20%20%20%20%20%20%20%20%20var%20popup_a37238b579f449dda1efceee861793b0%20%3D%20L.popup%28%7BmaxWidth%3A%20%27100%25%27%0A%20%20%20%20%20%20%20%20%20%20%20%20%0A%20%20%20%20%20%20%20%20%20%20%20%20%7D%29%3B%0A%0A%20%20%20%20%20%20%20%20%20%20%20%20%0A%20%20%20%20%20%20%20%20%20%20%20%20%20%20%20%20var%20html_279c7a02bdb9494b80b7cd1d383b6be1%20%3D%20%24%28%60%3Cdiv%20id%3D%22html_279c7a02bdb9494b80b7cd1d383b6be1%22%20style%3D%22width%3A%20100.0%25%3B%20height%3A%20100.0%25%3B%22%3EAndaman%20and%20Nicobar%20Islands%20%204994%20%20on%2001/02/2021%2022%3A49%3A18%3C/div%3E%60%29%5B0%5D%3B%0A%20%20%20%20%20%20%20%20%20%20%20%20%20%20%20%20popup_a37238b579f449dda1efceee861793b0.setContent%28html_279c7a02bdb9494b80b7cd1d383b6be1%29%3B%0A%20%20%20%20%20%20%20%20%20%20%20%20%0A%0A%20%20%20%20%20%20%20%20%20%20%20%20circle_73ecede5a1584ec28db937199fbb68df.bindPopup%28popup_a37238b579f449dda1efceee861793b0%29%0A%20%20%20%20%20%20%20%20%20%20%20%20%3B%0A%0A%20%20%20%20%20%20%20%20%20%20%20%20%0A%20%20%20%20%20%20%20%20%0A%20%20%20%20%0A%0A%20%20%20%20%20%20%20%20%20%20%20%20var%20circle_097a54473c7e4cd68d5d5396077a756e%20%3D%20L.circle%28%0A%20%20%20%20%20%20%20%20%20%20%20%20%20%20%20%20%5B23.2146169%2C%2092.8687612%5D%2C%0A%20%20%20%20%20%20%20%20%20%20%20%20%20%20%20%20%7B%0A%20%20%22bubblingMouseEvents%22%3A%20true%2C%0A%20%20%22color%22%3A%20%22black%22%2C%0A%20%20%22dashArray%22%3A%20null%2C%0A%20%20%22dashOffset%22%3A%20null%2C%0A%20%20%22fill%22%3A%20true%2C%0A%20%20%22fillColor%22%3A%20%22black%22%2C%0A%20%20%22fillOpacity%22%3A%200.2%2C%0A%20%20%22fillRule%22%3A%20%22evenodd%22%2C%0A%20%20%22lineCap%22%3A%20%22round%22%2C%0A%20%20%22lineJoin%22%3A%20%22round%22%2C%0A%20%20%22opacity%22%3A%201.0%2C%0A%20%20%22radius%22%3A%201457.3333333333333%2C%0A%20%20%22stroke%22%3A%20true%2C%0A%20%20%22weight%22%3A%203%0A%7D%0A%20%20%20%20%20%20%20%20%20%20%20%20%20%20%20%20%29%0A%20%20%20%20%20%20%20%20%20%20%20%20%20%20%20%20.addTo%28map_ac851d495ec544b1b9b66e6660509479%29%3B%0A%20%20%20%20%20%20%20%20%20%20%20%20%0A%20%20%20%20%0A%20%20%20%20%20%20%20%20%20%20%20%20var%20popup_da005170098e44ca916905070ec0cb54%20%3D%20L.popup%28%7BmaxWidth%3A%20%27100%25%27%0A%20%20%20%20%20%20%20%20%20%20%20%20%0A%20%20%20%20%20%20%20%20%20%20%20%20%7D%29%3B%0A%0A%20%20%20%20%20%20%20%20%20%20%20%20%0A%20%20%20%20%20%20%20%20%20%20%20%20%20%20%20%20var%20html_2bf1b911399f48b9aead7aa2e77d34c4%20%3D%20%24%28%60%3Cdiv%20id%3D%22html_2bf1b911399f48b9aead7aa2e77d34c4%22%20style%3D%22width%3A%20100.0%25%3B%20height%3A%20100.0%25%3B%22%3EMizoram%20%204372%20%20on%2001/02/2021%2020%3A46%3A25%3C/div%3E%60%29%5B0%5D%3B%0A%20%20%20%20%20%20%20%20%20%20%20%20%20%20%20%20popup_da005170098e44ca916905070ec0cb54.setContent%28html_2bf1b911399f48b9aead7aa2e77d34c4%29%3B%0A%20%20%20%20%20%20%20%20%20%20%20%20%0A%0A%20%20%20%20%20%20%20%20%20%20%20%20circle_097a54473c7e4cd68d5d5396077a756e.bindPopup%28popup_da005170098e44ca916905070ec0cb54%29%0A%20%20%20%20%20%20%20%20%20%20%20%20%3B%0A%0A%20%20%20%20%20%20%20%20%20%20%20%20%0A%20%20%20%20%20%20%20%20%0A%20%20%20%20%0A%0A%20%20%20%20%20%20%20%20%20%20%20%20var%20circle_bdab39e69fec4a48afaa40b05d4fc658%20%3D%20L.circle%28%0A%20%20%20%20%20%20%20%20%20%20%20%20%20%20%20%20%5B20.717985749999997%2C%2070.932399240922%5D%2C%0A%20%20%20%20%20%20%20%20%20%20%20%20%20%20%20%20%7B%0A%20%20%22bubblingMouseEvents%22%3A%20true%2C%0A%20%20%22color%22%3A%20%22black%22%2C%0A%20%20%22dashArray%22%3A%20null%2C%0A%20%20%22dashOffset%22%3A%20null%2C%0A%20%20%22fill%22%3A%20true%2C%0A%20%20%22fillColor%22%3A%20%22black%22%2C%0A%20%20%22fillOpacity%22%3A%200.2%2C%0A%20%20%22fillRule%22%3A%20%22evenodd%22%2C%0A%20%20%22lineCap%22%3A%20%22round%22%2C%0A%20%20%22lineJoin%22%3A%20%22round%22%2C%0A%20%20%22opacity%22%3A%201.0%2C%0A%20%20%22radius%22%3A%201126.6666666666667%2C%0A%20%20%22stroke%22%3A%20true%2C%0A%20%20%22weight%22%3A%203%0A%7D%0A%20%20%20%20%20%20%20%20%20%20%20%20%20%20%20%20%29%0A%20%20%20%20%20%20%20%20%20%20%20%20%20%20%20%20.addTo%28map_ac851d495ec544b1b9b66e6660509479%29%3B%0A%20%20%20%20%20%20%20%20%20%20%20%20%0A%20%20%20%20%0A%20%20%20%20%20%20%20%20%20%20%20%20var%20popup_e2634506e3d04dfbb5d9242f8e8291ce%20%3D%20L.popup%28%7BmaxWidth%3A%20%27100%25%27%0A%20%20%20%20%20%20%20%20%20%20%20%20%0A%20%20%20%20%20%20%20%20%20%20%20%20%7D%29%3B%0A%0A%20%20%20%20%20%20%20%20%20%20%20%20%0A%20%20%20%20%20%20%20%20%20%20%20%20%20%20%20%20var%20html_dda9a0b73e4e4d7f9257b58e2a46608b%20%3D%20%24%28%60%3Cdiv%20id%3D%22html_dda9a0b73e4e4d7f9257b58e2a46608b%22%20style%3D%22width%3A%20100.0%25%3B%20height%3A%20100.0%25%3B%22%3EDadra%20and%20Nagar%20Haveli%20and%20Daman%20and%20Diu%20%203380%20%20on%2001/02/2021%2019%3A44%3A46%3C/div%3E%60%29%5B0%5D%3B%0A%20%20%20%20%20%20%20%20%20%20%20%20%20%20%20%20popup_e2634506e3d04dfbb5d9242f8e8291ce.setContent%28html_dda9a0b73e4e4d7f9257b58e2a46608b%29%3B%0A%20%20%20%20%20%20%20%20%20%20%20%20%0A%0A%20%20%20%20%20%20%20%20%20%20%20%20circle_bdab39e69fec4a48afaa40b05d4fc658.bindPopup%28popup_e2634506e3d04dfbb5d9242f8e8291ce%29%0A%20%20%20%20%20%20%20%20%20%20%20%20%3B%0A%0A%20%20%20%20%20%20%20%20%20%20%20%20%0A%20%20%20%20%20%20%20%20%0A%3C/script%3E onload=\"this.contentDocument.open();this.contentDocument.write(    decodeURIComponent(this.getAttribute('data-html')));this.contentDocument.close();\" allowfullscreen webkitallowfullscreen mozallowfullscreen></iframe></div></div>"
            ],
            "text/plain": [
              "<folium.folium.Map at 0x7f3049b24ba8>"
            ]
          },
          "metadata": {
            "tags": []
          },
          "execution_count": 6
        }
      ]
    },
    {
      "cell_type": "markdown",
      "metadata": {
        "id": "Pcb7pRe5eeJJ"
      },
      "source": [
        "**Note:** The `folium_map_with_circles()` function is NOT a standard Python function. It is a user-defined function created at WhiteHat Jr using Python to simplify the map creation process. You will learn to create your own user-defined function in the subsequent classes in this course.\n",
        "\n",
        "Let's export the above map as an HTML file. You can make it a web page like a website and share it with your parents or friends. To do this, you need to use the `save()` function which is a standard Python function. The input to this function should be a path (or location) of the directory where you want to store the HTML file. Also, name the file as `index.html`. This is very important."
      ]
    },
    {
      "cell_type": "code",
      "metadata": {
        "id": "0Y1VFs1vWcL2"
      },
      "source": [
        "# Student Action: Export the world map as an HTML file. \n",
        "india_map=folium_map_with_circles('jeevana', 'India', 900, 500, 6, 4, 'OpenStreetMap', 4, 'black', True)\n",
        "india_map.save('/content/index.html')\n",
        "\n"
      ],
      "execution_count": null,
      "outputs": []
    },
    {
      "cell_type": "markdown",
      "metadata": {
        "id": "XQS9oIkAFw6u"
      },
      "source": [
        "---"
      ]
    }
  ]
}